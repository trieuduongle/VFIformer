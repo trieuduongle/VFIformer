{
  "cells": [
    {
      "cell_type": "markdown",
      "metadata": {
        "id": "view-in-github",
        "colab_type": "text"
      },
      "source": [
        "<a href=\"https://colab.research.google.com/github/trieuduongle/VFIformer/blob/colab/VFIFormer.ipynb\" target=\"_parent\"><img src=\"https://colab.research.google.com/assets/colab-badge.svg\" alt=\"Open In Colab\"/></a>"
      ]
    },
    {
      "cell_type": "code",
      "source": [
        "from google.colab import drive\n",
        "drive.mount('/content/drive')"
      ],
      "metadata": {
        "id": "Wro-793iCP7w",
        "outputId": "ab7a8c98-2054-4452-c32b-1b3cd3970158",
        "colab": {
          "base_uri": "https://localhost:8080/"
        }
      },
      "execution_count": 1,
      "outputs": [
        {
          "output_type": "stream",
          "name": "stdout",
          "text": [
            "Mounted at /content/drive\n"
          ]
        }
      ]
    },
    {
      "cell_type": "code",
      "source": [
        "with open('/content/drive/My Drive/foo.txt', 'w') as f:\n",
        "  f.write('Hello Google Drive!')\n",
        "!cat /content/drive/My\\ Drive/foo.txt"
      ],
      "metadata": {
        "id": "A12QcaVOCZjl",
        "outputId": "d8c68f8a-2135-49b6-f9cb-752b45b95ed0",
        "colab": {
          "base_uri": "https://localhost:8080/"
        }
      },
      "execution_count": null,
      "outputs": [
        {
          "output_type": "stream",
          "name": "stdout",
          "text": [
            "Hello Google Drive!"
          ]
        }
      ]
    },
    {
      "cell_type": "code",
      "source": [
        "!git clone https://github.com/trieuduongle/VFIformer.git '/content/drive/My Drive/VFIformer'"
      ],
      "metadata": {
        "id": "M9Vb0A2-EcvB",
        "outputId": "80aa04f7-45d7-47b9-a3fe-fd86bbadc814",
        "colab": {
          "base_uri": "https://localhost:8080/"
        }
      },
      "execution_count": null,
      "outputs": [
        {
          "output_type": "stream",
          "name": "stdout",
          "text": [
            "Cloning into '/content/drive/My Drive/VFIformer'...\n",
            "remote: Enumerating objects: 122, done.\u001b[K\n",
            "remote: Counting objects: 100% (122/122), done.\u001b[K\n",
            "remote: Compressing objects: 100% (64/64), done.\u001b[K\n",
            "remote: Total 122 (delta 68), reused 109 (delta 55), pack-reused 0\u001b[K\n",
            "Receiving objects: 100% (122/122), 229.01 KiB | 5.45 MiB/s, done.\n",
            "Resolving deltas: 100% (68/68), done.\n"
          ]
        }
      ]
    },
    {
      "cell_type": "code",
      "source": [
        "%cd '/content/drive/My Drive/VFIformer'"
      ],
      "metadata": {
        "id": "cO72eFDsHF-3",
        "outputId": "00dd2579-b538-4e7c-c302-71edd54ac324",
        "colab": {
          "base_uri": "https://localhost:8080/"
        }
      },
      "execution_count": 2,
      "outputs": [
        {
          "output_type": "stream",
          "name": "stdout",
          "text": [
            "/content/drive/My Drive/VFIformer\n"
          ]
        }
      ]
    },
    {
      "cell_type": "code",
      "source": [
        "!sudo apt-get update -y && sudo apt-get install python3.10"
      ],
      "metadata": {
        "id": "CiLkHhCBKexJ"
      },
      "execution_count": null,
      "outputs": []
    },
    {
      "cell_type": "code",
      "source": [
        "!sudo update-alternatives --install /usr/bin/python3 python3 /usr/bin/python3.10 1\n",
        "!sudo update-alternatives --config python3\n",
        "!python --version\n",
        "!sudo apt install python3-pip"
      ],
      "metadata": {
        "id": "y9A_FHz3L3Xo",
        "outputId": "62b9dffc-e403-4660-b0b6-63a97da3c92d",
        "colab": {
          "base_uri": "https://localhost:8080/"
        }
      },
      "execution_count": null,
      "outputs": [
        {
          "output_type": "stream",
          "name": "stdout",
          "text": [
            "There are 3 choices for the alternative python3 (providing /usr/bin/python3).\n",
            "\n",
            "  Selection    Path                 Priority   Status\n",
            "------------------------------------------------------------\n",
            "  0            /usr/bin/python3.7    2         auto mode\n",
            "* 1            /usr/bin/python3.10   1         manual mode\n",
            "  2            /usr/bin/python3.6    1         manual mode\n",
            "  3            /usr/bin/python3.7    2         manual mode\n",
            "\n",
            "Press <enter> to keep the current choice[*], or type selection number: 0\n",
            "update-alternatives: using /usr/bin/python3.7 to provide /usr/bin/python3 (python3) in auto mode\n",
            "Python 3.7.13\n",
            "Reading package lists... Done\n",
            "Building dependency tree       \n",
            "Reading state information... Done\n",
            "python3-pip is already the newest version (9.0.1-2.3~ubuntu1.18.04.5).\n",
            "The following package was automatically installed and is no longer required:\n",
            "  libnvidia-common-460\n",
            "Use 'sudo apt autoremove' to remove it.\n",
            "0 upgraded, 0 newly installed, 0 to remove and 35 not upgraded.\n"
          ]
        }
      ]
    },
    {
      "cell_type": "code",
      "source": [
        "!git checkout colab && git pull && pip install -r requirements.txt -f https://download.pytorch.org/whl/cu111/torch_stable.html"
      ],
      "metadata": {
        "id": "IbMoodR4I95F",
        "outputId": "6fb2c901-8d6f-41fb-e8ec-f35079ca7d75",
        "colab": {
          "base_uri": "https://localhost:8080/"
        }
      },
      "execution_count": 5,
      "outputs": [
        {
          "output_type": "stream",
          "name": "stdout",
          "text": [
            "Already on 'colab'\n",
            "Your branch is up to date with 'origin/colab'.\n",
            "remote: Enumerating objects: 5, done.\u001b[K\n",
            "remote: Counting objects: 100% (5/5), done.\u001b[K\n",
            "remote: Compressing objects: 100% (3/3), done.\u001b[K\n",
            "remote: Total 3 (delta 1), reused 0 (delta 0), pack-reused 0\u001b[K\n",
            "Unpacking objects: 100% (3/3), done.\n",
            "From https://github.com/trieuduongle/VFIformer\n",
            "   b1629e4..73c0627  colab      -> origin/colab\n",
            "Updating b1629e4..73c0627\n",
            "Fast-forward\n",
            " VFIFormer.ipynb | 471 \u001b[32m++++++++++++++++++++++++++++++++++++++++++++++++++++++\u001b[m\u001b[31m--\u001b[m\n",
            " 1 file changed, 454 insertions(+), 17 deletions(-)\n",
            "Looking in indexes: https://pypi.org/simple, https://us-python.pkg.dev/colab-wheels/public/simple/\n",
            "Looking in links: https://download.pytorch.org/whl/cu111/torch_stable.html\n",
            "Collecting matplotlib==3.5.3\n",
            "  Downloading matplotlib-3.5.3-cp37-cp37m-manylinux_2_5_x86_64.manylinux1_x86_64.whl (11.2 MB)\n",
            "\u001b[K     |████████████████████████████████| 11.2 MB 5.1 MB/s \n",
            "\u001b[?25hRequirement already satisfied: numpy==1.21.6 in /usr/local/lib/python3.7/dist-packages (from -r requirements.txt (line 2)) (1.21.6)\n",
            "Requirement already satisfied: opencv_python==4.6.0.66 in /usr/local/lib/python3.7/dist-packages (from -r requirements.txt (line 3)) (4.6.0.66)\n",
            "Collecting Pillow==9.2.0\n",
            "  Downloading Pillow-9.2.0-cp37-cp37m-manylinux_2_17_x86_64.manylinux2014_x86_64.whl (3.1 MB)\n",
            "\u001b[K     |████████████████████████████████| 3.1 MB 54.8 MB/s \n",
            "\u001b[?25hRequirement already satisfied: scipy==1.7.3 in /usr/local/lib/python3.7/dist-packages (from -r requirements.txt (line 5)) (1.7.3)\n",
            "Collecting tensorboardX==2.5.1\n",
            "  Downloading tensorboardX-2.5.1-py2.py3-none-any.whl (125 kB)\n",
            "\u001b[K     |████████████████████████████████| 125 kB 74.4 MB/s \n",
            "\u001b[?25hCollecting timm==0.6.7\n",
            "  Downloading timm-0.6.7-py3-none-any.whl (509 kB)\n",
            "\u001b[K     |████████████████████████████████| 509 kB 74.4 MB/s \n",
            "\u001b[?25hCollecting torch==1.8.1+cu111\n",
            "  Downloading https://download.pytorch.org/whl/cu111/torch-1.8.1%2Bcu111-cp37-cp37m-linux_x86_64.whl (1982.2 MB)\n",
            "\u001b[K     |█████████████▌                  | 834.1 MB 1.3 MB/s eta 0:14:18tcmalloc: large alloc 1147494400 bytes == 0x3bee000 @  0x7f0a9bb9b615 0x592b76 0x4df71e 0x59afff 0x515655 0x549576 0x593fce 0x548ae9 0x51566f 0x549576 0x593fce 0x548ae9 0x5127f1 0x598e3b 0x511f68 0x598e3b 0x511f68 0x598e3b 0x511f68 0x4bc98a 0x532e76 0x594b72 0x515600 0x549576 0x593fce 0x548ae9 0x5127f1 0x549576 0x593fce 0x5118f8 0x593dd7\n",
            "\u001b[K     |█████████████████               | 1055.7 MB 1.3 MB/s eta 0:12:10tcmalloc: large alloc 1434370048 bytes == 0x48244000 @  0x7f0a9bb9b615 0x592b76 0x4df71e 0x59afff 0x515655 0x549576 0x593fce 0x548ae9 0x51566f 0x549576 0x593fce 0x548ae9 0x5127f1 0x598e3b 0x511f68 0x598e3b 0x511f68 0x598e3b 0x511f68 0x4bc98a 0x532e76 0x594b72 0x515600 0x549576 0x593fce 0x548ae9 0x5127f1 0x549576 0x593fce 0x5118f8 0x593dd7\n",
            "\u001b[K     |█████████████████████▋          | 1336.2 MB 1.3 MB/s eta 0:08:25tcmalloc: large alloc 1792966656 bytes == 0x9da30000 @  0x7f0a9bb9b615 0x592b76 0x4df71e 0x59afff 0x515655 0x549576 0x593fce 0x548ae9 0x51566f 0x549576 0x593fce 0x548ae9 0x5127f1 0x598e3b 0x511f68 0x598e3b 0x511f68 0x598e3b 0x511f68 0x4bc98a 0x532e76 0x594b72 0x515600 0x549576 0x593fce 0x548ae9 0x5127f1 0x549576 0x593fce 0x5118f8 0x593dd7\n",
            "\u001b[K     |███████████████████████████▎    | 1691.1 MB 1.3 MB/s eta 0:03:51tcmalloc: large alloc 2241208320 bytes == 0x3bee000 @  0x7f0a9bb9b615 0x592b76 0x4df71e 0x59afff 0x515655 0x549576 0x593fce 0x548ae9 0x51566f 0x549576 0x593fce 0x548ae9 0x5127f1 0x598e3b 0x511f68 0x598e3b 0x511f68 0x598e3b 0x511f68 0x4bc98a 0x532e76 0x594b72 0x515600 0x549576 0x593fce 0x548ae9 0x5127f1 0x549576 0x593fce 0x5118f8 0x593dd7\n",
            "\u001b[K     |████████████████████████████████| 1982.2 MB 1.2 MB/s eta 0:00:01tcmalloc: large alloc 1982177280 bytes == 0x89550000 @  0x7f0a9bb9a1e7 0x4a3940 0x4a39cc 0x592b76 0x4df71e 0x59afff 0x515655 0x549576 0x593fce 0x511e2c 0x549576 0x593fce 0x511e2c 0x549576 0x593fce 0x511e2c 0x549576 0x593fce 0x511e2c 0x549576 0x593fce 0x511e2c 0x593dd7 0x511e2c 0x549576 0x593fce 0x548ae9 0x5127f1 0x549576 0x593fce 0x548ae9\n",
            "tcmalloc: large alloc 2477727744 bytes == 0xff7aa000 @  0x7f0a9bb9b615 0x592b76 0x4df71e 0x59afff 0x515655 0x549576 0x593fce 0x511e2c 0x549576 0x593fce 0x511e2c 0x549576 0x593fce 0x511e2c 0x549576 0x593fce 0x511e2c 0x549576 0x593fce 0x511e2c 0x593dd7 0x511e2c 0x549576 0x593fce 0x548ae9 0x5127f1 0x549576 0x593fce 0x548ae9 0x5127f1 0x549576\n",
            "\u001b[K     |████████████████████████████████| 1982.2 MB 3.1 kB/s \n",
            "\u001b[?25hCollecting torchvision==0.9.1+cu111\n",
            "  Downloading https://download.pytorch.org/whl/cu111/torchvision-0.9.1%2Bcu111-cp37-cp37m-linux_x86_64.whl (17.6 MB)\n",
            "\u001b[K     |████████████████████████████████| 17.6 MB 295 kB/s \n",
            "\u001b[?25hRequirement already satisfied: cycler>=0.10 in /usr/local/lib/python3.7/dist-packages (from matplotlib==3.5.3->-r requirements.txt (line 1)) (0.11.0)\n",
            "Requirement already satisfied: pyparsing>=2.2.1 in /usr/local/lib/python3.7/dist-packages (from matplotlib==3.5.3->-r requirements.txt (line 1)) (3.0.9)\n",
            "Requirement already satisfied: packaging>=20.0 in /usr/local/lib/python3.7/dist-packages (from matplotlib==3.5.3->-r requirements.txt (line 1)) (21.3)\n",
            "Requirement already satisfied: python-dateutil>=2.7 in /usr/local/lib/python3.7/dist-packages (from matplotlib==3.5.3->-r requirements.txt (line 1)) (2.8.2)\n",
            "Requirement already satisfied: kiwisolver>=1.0.1 in /usr/local/lib/python3.7/dist-packages (from matplotlib==3.5.3->-r requirements.txt (line 1)) (1.4.4)\n",
            "Collecting fonttools>=4.22.0\n",
            "  Downloading fonttools-4.35.0-py3-none-any.whl (947 kB)\n",
            "\u001b[K     |████████████████████████████████| 947 kB 66.0 MB/s \n",
            "\u001b[?25hRequirement already satisfied: protobuf<=3.20.1,>=3.8.0 in /usr/local/lib/python3.7/dist-packages (from tensorboardX==2.5.1->-r requirements.txt (line 6)) (3.17.3)\n",
            "Requirement already satisfied: typing-extensions in /usr/local/lib/python3.7/dist-packages (from torch==1.8.1+cu111->-r requirements.txt (line 8)) (4.1.1)\n",
            "Requirement already satisfied: six>=1.9 in /usr/local/lib/python3.7/dist-packages (from protobuf<=3.20.1,>=3.8.0->tensorboardX==2.5.1->-r requirements.txt (line 6)) (1.15.0)\n",
            "Installing collected packages: torch, Pillow, torchvision, fonttools, timm, tensorboardX, matplotlib\n",
            "  Attempting uninstall: torch\n",
            "    Found existing installation: torch 1.12.1+cu113\n",
            "    Uninstalling torch-1.12.1+cu113:\n",
            "      Successfully uninstalled torch-1.12.1+cu113\n",
            "  Attempting uninstall: Pillow\n",
            "    Found existing installation: Pillow 7.1.2\n",
            "    Uninstalling Pillow-7.1.2:\n",
            "      Successfully uninstalled Pillow-7.1.2\n",
            "  Attempting uninstall: torchvision\n",
            "    Found existing installation: torchvision 0.13.1+cu113\n",
            "    Uninstalling torchvision-0.13.1+cu113:\n",
            "      Successfully uninstalled torchvision-0.13.1+cu113\n",
            "  Attempting uninstall: matplotlib\n",
            "    Found existing installation: matplotlib 3.2.2\n",
            "    Uninstalling matplotlib-3.2.2:\n",
            "      Successfully uninstalled matplotlib-3.2.2\n",
            "\u001b[31mERROR: pip's dependency resolver does not currently take into account all the packages that are installed. This behaviour is the source of the following dependency conflicts.\n",
            "torchtext 0.13.1 requires torch==1.12.1, but you have torch 1.8.1+cu111 which is incompatible.\n",
            "torchaudio 0.12.1+cu113 requires torch==1.12.1, but you have torch 1.8.1+cu111 which is incompatible.\u001b[0m\n",
            "Successfully installed Pillow-9.2.0 fonttools-4.35.0 matplotlib-3.5.3 tensorboardX-2.5.1 timm-0.6.7 torch-1.8.1+cu111 torchvision-0.9.1+cu111\n"
          ]
        }
      ]
    },
    {
      "cell_type": "code",
      "source": [
        "!pip uninstall -r requirements.txt"
      ],
      "metadata": {
        "id": "syd88yVWQA28"
      },
      "execution_count": null,
      "outputs": []
    },
    {
      "cell_type": "code",
      "source": [
        "!python -m torch.distributed.launch --nproc_per_node=1 --master_port=4175 train.py --launcher pytorch --gpu_ids 0 \\\n",
        "            --loss_l1 --loss_ter --loss_flow --use_tb_logger --batch_size 24 --net_name VFIformerSmall --name train_VFIformerSmall --max_iter 300 \\\n",
        "            --crop_size 192 --save_epoch_freq 5 --data_root \"/content/drive/My Drive/datasets/vimeo_triplet\""
      ],
      "metadata": {
        "id": "zEzvnwE0HbE5"
      },
      "execution_count": null,
      "outputs": []
    },
    {
      "cell_type": "code",
      "source": [
        "!python test.py --data_root \"/content/drive/My Drive/datasets/vimeo_triplet\" --testset VimeoDataset --net_name VFIformerSmall \\\n",
        "  --resume \"/content/drive/My Drive/VFIformer/weights/train_VFIformerSmall/snapshot/net_105.pth\" \\\n",
        "  --save_result --save_folder \"/content/drive/My Drive/datasets/vimeo_triplet/test_results\""
      ],
      "metadata": {
        "id": "1XN_-G6gHhHk",
        "outputId": "25b5369d-9055-499e-d6ab-651c839e0d64",
        "colab": {
          "base_uri": "https://localhost:8080/"
        }
      },
      "execution_count": 35,
      "outputs": [
        {
          "output_type": "stream",
          "name": "stdout",
          "text": [
            "Disabled distributed training.\n",
            "2022-08-15 16:15:12,339 [INFO ]  Logging file is /content/drive/My Drive/datasets/vimeo_triplet/test_results/test_vfiformer/20220815_161512.log\n",
            "2022-08-15 16:15:12,339 [INFO ]  random_seed:0\n",
            "2022-08-15 16:15:12,340 [INFO ]  name:test_vfiformer\n",
            "2022-08-15 16:15:12,340 [INFO ]  phase:test\n",
            "2022-08-15 16:15:12,340 [INFO ]  gpu_ids:[0]\n",
            "2022-08-15 16:15:12,340 [INFO ]  launcher:none\n",
            "2022-08-15 16:15:12,340 [INFO ]  local_rank:0\n",
            "2022-08-15 16:15:12,340 [INFO ]  net_name:VFIformerSmall\n",
            "2022-08-15 16:15:12,340 [INFO ]  data_root:/content/drive/My Drive/datasets/vimeo_triplet\n",
            "2022-08-15 16:15:12,340 [INFO ]  trainset:VimeoDataset\n",
            "2022-08-15 16:15:12,341 [INFO ]  testset:VimeoDataset\n",
            "2022-08-15 16:15:12,341 [INFO ]  crop_size:192\n",
            "2022-08-15 16:15:12,341 [INFO ]  batch_size:1\n",
            "2022-08-15 16:15:12,341 [INFO ]  num_workers:4\n",
            "2022-08-15 16:15:12,341 [INFO ]  data_augmentation:False\n",
            "2022-08-15 16:15:12,341 [INFO ]  resume:/content/drive/My Drive/VFIformer/weights/train_VFIformerSmall/snapshot/net_105.pth\n",
            "2022-08-15 16:15:12,341 [INFO ]  resume_flownet:\n",
            "2022-08-15 16:15:12,341 [INFO ]  save_folder:/content/drive/My Drive/datasets/vimeo_triplet/test_results/test_vfiformer\n",
            "2022-08-15 16:15:12,341 [INFO ]  save_result:True\n",
            "2022-08-15 16:15:12,342 [INFO ]  dist:False\n",
            "2022-08-15 16:15:12,342 [INFO ]  rank:-1\n",
            "/usr/local/lib/python3.7/dist-packages/torch/utils/data/dataloader.py:477: UserWarning: This DataLoader will create 4 worker processes in total. Our suggested max number of worker in current system is 2, which is smaller than what this DataLoader is going to create. Please be aware that excessive worker creation might get DataLoader running slow or even freeze, lower the worker number to avoid potential slowness/freeze if necessary.\n",
            "  cpuset_checked))\n",
            "/usr/local/lib/python3.7/dist-packages/torch/nn/functional.py:3503: UserWarning: The default behavior for interpolate/upsample with float scale_factor changed in 1.6.0 to align with other frameworks/libraries, and now uses scale_factor directly, instead of relying on the computed output size. If you wish to restore the old behavior, please set recompute_scale_factor=True. See the documentation of nn.Upsample for details. \n",
            "  \"The default behavior for interpolate/upsample with float scale_factor changed \"\n",
            "2022-08-15 16:15:16,511 [INFO ]  ----- generator parameters: 17.024426 -----\n",
            "2022-08-15 16:15:16,517 [INFO ]  start testing...\n",
            "2022-08-15 16:15:16,517 [INFO ]  20 testing samples\n",
            "2022-08-15 16:15:19,690 [INFO ]  testing on: 00001/0001    psnr: 20.373328    ssim: 0.697932\n",
            "2022-08-15 16:15:20,428 [INFO ]  testing on: 00001/0002    psnr: 20.429682    ssim: 0.700806\n",
            "2022-08-15 16:15:21,188 [INFO ]  testing on: 00001/0003    psnr: 20.484634    ssim: 0.704268\n",
            "2022-08-15 16:15:21,905 [INFO ]  testing on: 00001/0004    psnr: 19.075170    ssim: 0.568258\n",
            "2022-08-15 16:15:22,625 [INFO ]  testing on: 00001/0005    psnr: 20.149826    ssim: 0.630112\n",
            "2022-08-15 16:15:23,353 [INFO ]  testing on: 00001/0006    psnr: 20.811068    ssim: 0.661224\n",
            "2022-08-15 16:15:24,072 [INFO ]  testing on: 00001/0007    psnr: 20.052586    ssim: 0.610983\n",
            "2022-08-15 16:15:24,791 [INFO ]  testing on: 00001/0008    psnr: 19.442653    ssim: 0.575973\n",
            "2022-08-15 16:15:25,515 [INFO ]  testing on: 00001/0009    psnr: 19.007357    ssim: 0.548806\n",
            "2022-08-15 16:15:26,262 [INFO ]  testing on: 00001/0010    psnr: 18.629936    ssim: 0.526344\n",
            "2022-08-15 16:15:26,983 [INFO ]  testing on: 00001/0011    psnr: 18.440923    ssim: 0.515653\n",
            "2022-08-15 16:15:27,707 [INFO ]  testing on: 00001/0012    psnr: 18.301578    ssim: 0.507408\n",
            "2022-08-15 16:15:28,423 [INFO ]  testing on: 00001/0013    psnr: 18.276738    ssim: 0.503915\n",
            "2022-08-15 16:15:29,132 [INFO ]  testing on: 00001/0014    psnr: 18.598399    ssim: 0.520811\n",
            "2022-08-15 16:15:29,847 [INFO ]  testing on: 00001/0015    psnr: 19.017759    ssim: 0.541669\n",
            "2022-08-15 16:15:30,581 [INFO ]  testing on: 00001/0016    psnr: 19.466106    ssim: 0.563200\n",
            "2022-08-15 16:15:31,303 [INFO ]  testing on: 00001/0017    psnr: 19.005264    ssim: 0.572232\n",
            "2022-08-15 16:15:32,021 [INFO ]  testing on: 00001/0018    psnr: 18.823476    ssim: 0.557886\n",
            "2022-08-15 16:15:32,733 [INFO ]  testing on: 00001/0019    psnr: 18.918367    ssim: 0.553478\n",
            "2022-08-15 16:15:33,458 [INFO ]  testing on: 00001/0020    psnr: 19.158276    ssim: 0.556573\n",
            "2022-08-15 16:15:33,742 [INFO ]  --------- average PSNR: 19.323156,  SSIM: 0.580877\n"
          ]
        }
      ]
    },
    {
      "cell_type": "code",
      "source": [
        ""
      ],
      "metadata": {
        "id": "xX_jMGHVObxZ"
      },
      "execution_count": null,
      "outputs": []
    },
    {
      "cell_type": "code",
      "source": [
        "import os\n",
        "import glob\n",
        "\n",
        "data_root = '/content/drive/My Drive/datasets/vimeo_triplet' \n",
        "data_list = open(os.path.join(data_root, 'tri_testlist.txt'), 'r')\n",
        "flow_data = []\n",
        "for item in data_list:\n",
        "  name = str(item).strip()\n",
        "  flow = sorted(glob.glob(os.path.join(data_root.replace('vimeo_triplet', ''), 'flows', name, '*.npy')))\n",
        "  print(glob.glob(os.path.join(data_root.replace('vimeo_triplet', ''), 'flows',name, '*.npy')))\n",
        "print(flow_data)\n",
        "\n",
        "# print(glob.glob(f'/content/drive/My Drive/datasets/**/*'))"
      ],
      "metadata": {
        "id": "xA_Y_oDnNbif",
        "outputId": "abcafec7-df2f-4cb3-c477-79254ad35dd1",
        "colab": {
          "base_uri": "https://localhost:8080/"
        }
      },
      "execution_count": 33,
      "outputs": [
        {
          "output_type": "stream",
          "name": "stdout",
          "text": [
            "['/content/drive/My Drive/datasets/flows/00001/0001/flo21.npy', '/content/drive/My Drive/datasets/flows/00001/0001/flo23.npy']\n",
            "['/content/drive/My Drive/datasets/flows/00001/0002/flo23.npy', '/content/drive/My Drive/datasets/flows/00001/0002/flo21.npy']\n",
            "['/content/drive/My Drive/datasets/flows/00001/0003/flo21.npy', '/content/drive/My Drive/datasets/flows/00001/0003/flo23.npy']\n",
            "['/content/drive/My Drive/datasets/flows/00001/0004/flo23.npy', '/content/drive/My Drive/datasets/flows/00001/0004/flo21.npy']\n",
            "['/content/drive/My Drive/datasets/flows/00001/0005/flo21.npy', '/content/drive/My Drive/datasets/flows/00001/0005/flo23.npy']\n",
            "['/content/drive/My Drive/datasets/flows/00001/0006/flo23.npy', '/content/drive/My Drive/datasets/flows/00001/0006/flo21.npy']\n",
            "['/content/drive/My Drive/datasets/flows/00001/0007/flo23.npy', '/content/drive/My Drive/datasets/flows/00001/0007/flo21.npy']\n",
            "['/content/drive/My Drive/datasets/flows/00001/0008/flo23.npy', '/content/drive/My Drive/datasets/flows/00001/0008/flo21.npy']\n",
            "['/content/drive/My Drive/datasets/flows/00001/0009/flo21.npy', '/content/drive/My Drive/datasets/flows/00001/0009/flo23.npy']\n",
            "['/content/drive/My Drive/datasets/flows/00001/0010/flo23.npy', '/content/drive/My Drive/datasets/flows/00001/0010/flo21.npy']\n",
            "['/content/drive/My Drive/datasets/flows/00001/0011/flo23.npy', '/content/drive/My Drive/datasets/flows/00001/0011/flo21.npy']\n",
            "['/content/drive/My Drive/datasets/flows/00001/0012/flo23.npy', '/content/drive/My Drive/datasets/flows/00001/0012/flo21.npy']\n",
            "['/content/drive/My Drive/datasets/flows/00001/0013/flo23.npy', '/content/drive/My Drive/datasets/flows/00001/0013/flo21.npy']\n",
            "['/content/drive/My Drive/datasets/flows/00001/0014/flo21.npy', '/content/drive/My Drive/datasets/flows/00001/0014/flo23.npy']\n",
            "['/content/drive/My Drive/datasets/flows/00001/0015/flo21.npy', '/content/drive/My Drive/datasets/flows/00001/0015/flo23.npy']\n",
            "['/content/drive/My Drive/datasets/flows/00001/0016/flo21.npy', '/content/drive/My Drive/datasets/flows/00001/0016/flo23.npy']\n",
            "['/content/drive/My Drive/datasets/flows/00001/0017/flo23.npy', '/content/drive/My Drive/datasets/flows/00001/0017/flo21.npy']\n",
            "['/content/drive/My Drive/datasets/flows/00001/0018/flo23.npy', '/content/drive/My Drive/datasets/flows/00001/0018/flo21.npy']\n",
            "['/content/drive/My Drive/datasets/flows/00001/0019/flo21.npy', '/content/drive/My Drive/datasets/flows/00001/0019/flo23.npy']\n",
            "['/content/drive/My Drive/datasets/flows/00001/0020/flo23.npy', '/content/drive/My Drive/datasets/flows/00001/0020/flo21.npy']\n",
            "[]\n"
          ]
        }
      ]
    }
  ],
  "metadata": {
    "language_info": {
      "name": "python"
    },
    "orig_nbformat": 4,
    "colab": {
      "name": "VFIFormer.ipynb",
      "provenance": [],
      "include_colab_link": true
    },
    "kernelspec": {
      "name": "python3",
      "display_name": "Python 3"
    },
    "gpuClass": "standard",
    "accelerator": "GPU"
  },
  "nbformat": 4,
  "nbformat_minor": 0
}