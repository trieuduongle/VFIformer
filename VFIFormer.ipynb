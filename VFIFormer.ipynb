{
  "cells": [
    {
      "cell_type": "markdown",
      "metadata": {
        "id": "view-in-github",
        "colab_type": "text"
      },
      "source": [
        "<a href=\"https://colab.research.google.com/github/trieuduongle/VFIformer/blob/colab/VFIFormer.ipynb\" target=\"_parent\"><img src=\"https://colab.research.google.com/assets/colab-badge.svg\" alt=\"Open In Colab\"/></a>"
      ]
    },
    {
      "cell_type": "code",
      "source": [
        "from google.colab import drive\n",
        "drive.mount('/content/drive')"
      ],
      "metadata": {
        "id": "Wro-793iCP7w",
        "outputId": "5a67b5a1-ebf1-4ec0-d5e9-d46ec53f204d",
        "colab": {
          "base_uri": "https://localhost:8080/"
        }
      },
      "execution_count": 6,
      "outputs": [
        {
          "output_type": "stream",
          "name": "stdout",
          "text": [
            "Mounted at /content/drive\n"
          ]
        }
      ]
    },
    {
      "cell_type": "code",
      "source": [
        "with open('/content/drive/My Drive/foo.txt', 'w') as f:\n",
        "  f.write('Hello Google Drive!')\n",
        "!cat /content/drive/My\\ Drive/foo.txt"
      ],
      "metadata": {
        "id": "A12QcaVOCZjl",
        "outputId": "d8c68f8a-2135-49b6-f9cb-752b45b95ed0",
        "colab": {
          "base_uri": "https://localhost:8080/"
        }
      },
      "execution_count": 2,
      "outputs": [
        {
          "output_type": "stream",
          "name": "stdout",
          "text": [
            "Hello Google Drive!"
          ]
        }
      ]
    },
    {
      "cell_type": "code",
      "source": [
        "!git clone https://github.com/trieuduongle/VFIformer.git '/content/drive/My Drive/VFIformer'"
      ],
      "metadata": {
        "id": "M9Vb0A2-EcvB",
        "outputId": "80aa04f7-45d7-47b9-a3fe-fd86bbadc814",
        "colab": {
          "base_uri": "https://localhost:8080/"
        }
      },
      "execution_count": 10,
      "outputs": [
        {
          "output_type": "stream",
          "name": "stdout",
          "text": [
            "Cloning into '/content/drive/My Drive/VFIformer'...\n",
            "remote: Enumerating objects: 122, done.\u001b[K\n",
            "remote: Counting objects: 100% (122/122), done.\u001b[K\n",
            "remote: Compressing objects: 100% (64/64), done.\u001b[K\n",
            "remote: Total 122 (delta 68), reused 109 (delta 55), pack-reused 0\u001b[K\n",
            "Receiving objects: 100% (122/122), 229.01 KiB | 5.45 MiB/s, done.\n",
            "Resolving deltas: 100% (68/68), done.\n"
          ]
        }
      ]
    },
    {
      "cell_type": "code",
      "source": [
        "%cd '/content/drive/My Drive/VFIformer'"
      ],
      "metadata": {
        "id": "cO72eFDsHF-3",
        "outputId": "db378f8b-afc4-43c9-d80f-d9df8209d589",
        "colab": {
          "base_uri": "https://localhost:8080/"
        }
      },
      "execution_count": 7,
      "outputs": [
        {
          "output_type": "stream",
          "name": "stdout",
          "text": [
            "/content/drive/My Drive/VFIformer\n"
          ]
        }
      ]
    },
    {
      "cell_type": "code",
      "source": [
        "!sudo apt-get update -y && sudo apt-get install python3.10"
      ],
      "metadata": {
        "id": "CiLkHhCBKexJ"
      },
      "execution_count": null,
      "outputs": []
    },
    {
      "cell_type": "code",
      "source": [
        "!sudo update-alternatives --install /usr/bin/python3 python3 /usr/bin/python3.10 1\n",
        "!sudo update-alternatives --config python3\n",
        "!python --version\n",
        "!sudo apt install python3-pip"
      ],
      "metadata": {
        "id": "y9A_FHz3L3Xo",
        "outputId": "62b9dffc-e403-4660-b0b6-63a97da3c92d",
        "colab": {
          "base_uri": "https://localhost:8080/"
        }
      },
      "execution_count": 40,
      "outputs": [
        {
          "output_type": "stream",
          "name": "stdout",
          "text": [
            "There are 3 choices for the alternative python3 (providing /usr/bin/python3).\n",
            "\n",
            "  Selection    Path                 Priority   Status\n",
            "------------------------------------------------------------\n",
            "  0            /usr/bin/python3.7    2         auto mode\n",
            "* 1            /usr/bin/python3.10   1         manual mode\n",
            "  2            /usr/bin/python3.6    1         manual mode\n",
            "  3            /usr/bin/python3.7    2         manual mode\n",
            "\n",
            "Press <enter> to keep the current choice[*], or type selection number: 0\n",
            "update-alternatives: using /usr/bin/python3.7 to provide /usr/bin/python3 (python3) in auto mode\n",
            "Python 3.7.13\n",
            "Reading package lists... Done\n",
            "Building dependency tree       \n",
            "Reading state information... Done\n",
            "python3-pip is already the newest version (9.0.1-2.3~ubuntu1.18.04.5).\n",
            "The following package was automatically installed and is no longer required:\n",
            "  libnvidia-common-460\n",
            "Use 'sudo apt autoremove' to remove it.\n",
            "0 upgraded, 0 newly installed, 0 to remove and 35 not upgraded.\n"
          ]
        }
      ]
    },
    {
      "cell_type": "code",
      "source": [
        "!git checkout colab && git pull && pip install -r requirements.txt -f https://download.pytorch.org/whl/cu111/torch_stable.html"
      ],
      "metadata": {
        "id": "IbMoodR4I95F",
        "outputId": "e62e849c-5a33-4aed-d142-0017a27fd1ef",
        "colab": {
          "base_uri": "https://localhost:8080/"
        }
      },
      "execution_count": 17,
      "outputs": [
        {
          "output_type": "stream",
          "name": "stdout",
          "text": [
            "Already on 'colab'\n",
            "Your branch is up to date with 'origin/colab'.\n",
            "remote: Enumerating objects: 5, done.\u001b[K\n",
            "remote: Counting objects: 100% (5/5), done.\u001b[K\n",
            "remote: Compressing objects: 100% (1/1), done.\u001b[K\n",
            "remote: Total 3 (delta 2), reused 3 (delta 2), pack-reused 0\u001b[K\n",
            "Unpacking objects: 100% (3/3), done.\n",
            "From https://github.com/trieuduongle/VFIformer\n",
            "   7b7cb68..b1629e4  colab      -> origin/colab\n",
            "Updating 7b7cb68..b1629e4\n",
            "Fast-forward\n",
            " requirements.txt | 4 \u001b[32m+\u001b[m\u001b[31m---\u001b[m\n",
            " 1 file changed, 1 insertion(+), 3 deletions(-)\n",
            "Looking in indexes: https://pypi.org/simple, https://us-python.pkg.dev/colab-wheels/public/simple/\n",
            "Looking in links: https://download.pytorch.org/whl/cu111/torch_stable.html\n",
            "Collecting matplotlib==3.5.3\n",
            "  Using cached matplotlib-3.5.3-cp37-cp37m-manylinux_2_5_x86_64.manylinux1_x86_64.whl (11.2 MB)\n",
            "Collecting numpy==1.21.6\n",
            "  Using cached numpy-1.21.6-cp37-cp37m-manylinux_2_12_x86_64.manylinux2010_x86_64.whl (15.7 MB)\n",
            "Collecting opencv_python==4.6.0.66\n",
            "  Using cached opencv_python-4.6.0.66-cp36-abi3-manylinux_2_17_x86_64.manylinux2014_x86_64.whl (60.9 MB)\n",
            "Collecting Pillow==9.2.0\n",
            "  Using cached Pillow-9.2.0-cp37-cp37m-manylinux_2_17_x86_64.manylinux2014_x86_64.whl (3.1 MB)\n",
            "Collecting scipy==1.7.3\n",
            "  Using cached scipy-1.7.3-cp37-cp37m-manylinux_2_12_x86_64.manylinux2010_x86_64.whl (38.1 MB)\n",
            "Collecting tensorboardX==2.5.1\n",
            "  Using cached tensorboardX-2.5.1-py2.py3-none-any.whl (125 kB)\n",
            "Collecting timm==0.6.7\n",
            "  Using cached timm-0.6.7-py3-none-any.whl (509 kB)\n",
            "Collecting torch==1.8.1+cu111\n",
            "tcmalloc: large alloc 1982177280 bytes == 0x3590000 @  0x7f6d7e50f1e7 0x4a3940 0x5b438c 0x5ea94f 0x5939cb 0x594cd3 0x5d0ecb 0x59aeca 0x515655 0x593dd7 0x511e2c 0x593dd7 0x511e2c 0x549e0e 0x4bca8a 0x59c019 0x595ef6 0x5134a6 0x549576 0x4bca8a 0x59c019 0x595ef6 0x5134a6 0x549576 0x4bca8a 0x59c019 0x595ef6 0x5134a6 0x549e0e 0x4bca8a 0x59c019\n",
            "tcmalloc: large alloc 1982177280 bytes == 0x797ea000 @  0x7f6d7e50f1e7 0x4a3940 0x5b438c 0x64cfe7 0x59b076 0x515655 0x593dd7 0x511e2c 0x593dd7 0x511e2c 0x549e0e 0x4bca8a 0x59c019 0x595ef6 0x5134a6 0x549576 0x4bca8a 0x59c019 0x595ef6 0x5134a6 0x549576 0x4bca8a 0x59c019 0x595ef6 0x5134a6 0x549e0e 0x4bca8a 0x59c019 0x595ef6 0x5134a6 0x549576\n",
            "tcmalloc: large alloc 1982177280 bytes == 0xefa44000 @  0x7f6d7e50f1e7 0x4a3940 0x59b5e2 0x63a515 0x63bd66 0x63be16 0x59afff 0x515655 0x593dd7 0x511e2c 0x549576 0x593fce 0x548ae9 0x5127f1 0x593dd7 0x5118f8 0x593dd7 0x511e2c 0x593dd7 0x511e2c 0x549e0e 0x4bca8a 0x59c019 0x595ef6 0x5134a6 0x549576 0x4bca8a 0x59c019 0x595ef6 0x5134a6 0x549576\n",
            "tcmalloc: large alloc 1982177280 bytes == 0x165c9e000 @  0x7f6d7e50f1e7 0x4a3940 0x59b6f0 0x59f499 0x4d3969 0x512147 0x549576 0x593fce 0x511e2c 0x549576 0x593fce 0x511e2c 0x549e0e 0x593fce 0x511e2c 0x549e0e 0x593fce 0x511e2c 0x549e0e 0x593fce 0x511e2c 0x549576 0x593fce 0x548ae9 0x5127f1 0x593dd7 0x5118f8 0x593dd7 0x511e2c 0x593dd7 0x511e2c\n",
            "tcmalloc: large alloc 1982177280 bytes == 0x1efe1c000 @  0x7f6d7e50f1e7 0x4a3940 0x5b438c 0x638cb2 0x59644e 0x5946b8 0x515600 0x549e0e 0x593fce 0x511e2c 0x549e0e 0x593fce 0x511e2c 0x549e0e 0x593fce 0x511e2c 0x549576 0x593fce 0x548ae9 0x5127f1 0x593dd7 0x5118f8 0x593dd7 0x511e2c 0x593dd7 0x511e2c 0x549e0e 0x4bca8a 0x59c019 0x595ef6 0x5134a6\n",
            "tcmalloc: large alloc 1982177280 bytes == 0x1efe1c000 @  0x7f6d7e50f1e7 0x4a3940 0x5b438c 0x5ea94f 0x5939cb 0x594cd3 0x5d0ecb 0x59aeca 0x515655 0x593dd7 0x511e2c 0x593dd7 0x511e2c 0x549e0e 0x4bca8a 0x59c019 0x595ef6 0x5134a6 0x549576 0x4bca8a 0x59c019 0x595ef6 0x5134a6 0x549576 0x4bca8a 0x59c019 0x595ef6 0x5134a6 0x549e0e 0x4bca8a 0x59c019\n",
            "tcmalloc: large alloc 2477727744 bytes == 0x3590000 @  0x7f6d7e510615 0x592b76 0x4df71e 0x59afff 0x515655 0x549576 0x593fce 0x511e2c 0x549576 0x593fce 0x511e2c 0x549576 0x593fce 0x511e2c 0x549576 0x593fce 0x511e2c 0x549576 0x593fce 0x511e2c 0x593dd7 0x511e2c 0x549576 0x593fce 0x548ae9 0x5127f1 0x549576 0x593fce 0x511e2c 0x549e0e 0x593fce\n",
            "  Using cached https://download.pytorch.org/whl/cu111/torch-1.8.1%2Bcu111-cp37-cp37m-linux_x86_64.whl (1982.2 MB)\n",
            "Collecting torchvision==0.9.1+cu111\n",
            "  Using cached https://download.pytorch.org/whl/cu111/torchvision-0.9.1%2Bcu111-cp37-cp37m-linux_x86_64.whl (17.6 MB)\n",
            "Requirement already satisfied: kiwisolver>=1.0.1 in /usr/local/lib/python3.7/dist-packages (from matplotlib==3.5.3->-r requirements.txt (line 1)) (1.4.4)\n",
            "Requirement already satisfied: packaging>=20.0 in /usr/local/lib/python3.7/dist-packages (from matplotlib==3.5.3->-r requirements.txt (line 1)) (21.3)\n",
            "Requirement already satisfied: pyparsing>=2.2.1 in /usr/local/lib/python3.7/dist-packages (from matplotlib==3.5.3->-r requirements.txt (line 1)) (3.0.9)\n",
            "Requirement already satisfied: cycler>=0.10 in /usr/local/lib/python3.7/dist-packages (from matplotlib==3.5.3->-r requirements.txt (line 1)) (0.11.0)\n",
            "Requirement already satisfied: python-dateutil>=2.7 in /usr/local/lib/python3.7/dist-packages (from matplotlib==3.5.3->-r requirements.txt (line 1)) (2.8.2)\n",
            "Requirement already satisfied: fonttools>=4.22.0 in /usr/local/lib/python3.7/dist-packages (from matplotlib==3.5.3->-r requirements.txt (line 1)) (4.34.4)\n",
            "Requirement already satisfied: protobuf<=3.20.1,>=3.8.0 in /usr/local/lib/python3.7/dist-packages (from tensorboardX==2.5.1->-r requirements.txt (line 6)) (3.17.3)\n",
            "Requirement already satisfied: typing-extensions in /usr/local/lib/python3.7/dist-packages (from torch==1.8.1+cu111->-r requirements.txt (line 8)) (4.1.1)\n",
            "Requirement already satisfied: six>=1.9 in /usr/local/lib/python3.7/dist-packages (from protobuf<=3.20.1,>=3.8.0->tensorboardX==2.5.1->-r requirements.txt (line 6)) (1.15.0)\n",
            "Installing collected packages: numpy, torch, Pillow, torchvision, timm, tensorboardX, scipy, opencv-python, matplotlib\n",
            "Successfully installed Pillow-9.2.0 matplotlib-3.5.3 numpy-1.21.6 opencv-python-4.6.0.66 scipy-1.7.3 tensorboardX-2.5.1 timm-0.6.7 torch-1.8.1+cu111 torchvision-0.9.1+cu111\n"
          ]
        }
      ]
    },
    {
      "cell_type": "code",
      "source": [
        "!pip uninstall -r requirements.txt"
      ],
      "metadata": {
        "id": "syd88yVWQA28"
      },
      "execution_count": null,
      "outputs": []
    },
    {
      "cell_type": "code",
      "source": [
        "!python -m torch.distributed.launch --nproc_per_node=1 --master_port=4175 train.py --launcher pytorch --gpu_ids 0 \\\n",
        "            --loss_l1 --loss_ter --loss_flow --use_tb_logger --batch_size 24 --net_name VFIformerSmall --name train_VFIformerSmall --max_iter 300 \\\n",
        "            --crop_size 192 --save_epoch_freq 5 --data_root \"/content/drive/My Drive/datasets/vimeo_triplet\""
      ],
      "metadata": {
        "id": "zEzvnwE0HbE5",
        "outputId": "0ceb8f75-da78-4ea6-dcaa-e7b14515b7f8",
        "colab": {
          "base_uri": "https://localhost:8080/"
        }
      },
      "execution_count": null,
      "outputs": [
        {
          "output_type": "stream",
          "name": "stdout",
          "text": [
            "INFO:root:Logging file is ./weights/train_VFIformerSmall/20220814_172346.log\n",
            "2022-08-14 17:23:46,426 [INFO ]  Logging file is ./weights/train_VFIformerSmall/20220814_172346.log\n",
            "INFO:root:random_seed:0\n",
            "2022-08-14 17:23:46,427 [INFO ]  random_seed:0\n",
            "INFO:root:name:train_VFIformerSmall\n",
            "2022-08-14 17:23:46,428 [INFO ]  name:train_VFIformerSmall\n",
            "INFO:root:phase:train\n",
            "2022-08-14 17:23:46,428 [INFO ]  phase:train\n",
            "INFO:root:gpu_ids:[0]\n",
            "2022-08-14 17:23:46,428 [INFO ]  gpu_ids:[0]\n",
            "INFO:root:launcher:pytorch\n",
            "2022-08-14 17:23:46,428 [INFO ]  launcher:pytorch\n",
            "INFO:root:local_rank:0\n",
            "2022-08-14 17:23:46,428 [INFO ]  local_rank:0\n",
            "INFO:root:net_name:VFIformerSmall\n",
            "2022-08-14 17:23:46,428 [INFO ]  net_name:VFIformerSmall\n",
            "INFO:root:window_size:8\n",
            "2022-08-14 17:23:46,429 [INFO ]  window_size:8\n",
            "INFO:root:data_root:/content/drive/My Drive/datasets/vimeo_triplet\n",
            "2022-08-14 17:23:46,429 [INFO ]  data_root:/content/drive/My Drive/datasets/vimeo_triplet\n",
            "INFO:root:trainset:VimeoDataset\n",
            "2022-08-14 17:23:46,429 [INFO ]  trainset:VimeoDataset\n",
            "INFO:root:testset:VimeoDataset\n",
            "2022-08-14 17:23:46,429 [INFO ]  testset:VimeoDataset\n",
            "INFO:root:save_test_root:generated\n",
            "2022-08-14 17:23:46,429 [INFO ]  save_test_root:generated\n",
            "INFO:root:crop_size:192\n",
            "2022-08-14 17:23:46,429 [INFO ]  crop_size:192\n",
            "INFO:root:batch_size:24\n",
            "2022-08-14 17:23:46,429 [INFO ]  batch_size:24\n",
            "INFO:root:num_workers:4\n",
            "2022-08-14 17:23:46,429 [INFO ]  num_workers:4\n",
            "INFO:root:multi_scale:False\n",
            "2022-08-14 17:23:46,430 [INFO ]  multi_scale:False\n",
            "INFO:root:data_augmentation:False\n",
            "2022-08-14 17:23:46,430 [INFO ]  data_augmentation:False\n",
            "INFO:root:lr:0.0001\n",
            "2022-08-14 17:23:46,430 [INFO ]  lr:0.0001\n",
            "INFO:root:lr_D:0.0001\n",
            "2022-08-14 17:23:46,430 [INFO ]  lr_D:0.0001\n",
            "INFO:root:weight_decay:0.0001\n",
            "2022-08-14 17:23:46,430 [INFO ]  weight_decay:0.0001\n",
            "INFO:root:start_iter:0\n",
            "2022-08-14 17:23:46,430 [INFO ]  start_iter:0\n",
            "INFO:root:max_iter:300\n",
            "2022-08-14 17:23:46,431 [INFO ]  max_iter:300\n",
            "INFO:root:loss_l1:True\n",
            "2022-08-14 17:23:46,431 [INFO ]  loss_l1:True\n",
            "INFO:root:loss_ter:True\n",
            "2022-08-14 17:23:46,431 [INFO ]  loss_ter:True\n",
            "INFO:root:loss_flow:True\n",
            "2022-08-14 17:23:46,431 [INFO ]  loss_flow:True\n",
            "INFO:root:loss_perceptual:False\n",
            "2022-08-14 17:23:46,431 [INFO ]  loss_perceptual:False\n",
            "INFO:root:loss_adv:False\n",
            "2022-08-14 17:23:46,431 [INFO ]  loss_adv:False\n",
            "INFO:root:gan_type:WGAN_GP\n",
            "2022-08-14 17:23:46,432 [INFO ]  gan_type:WGAN_GP\n",
            "INFO:root:lambda_l1:1\n",
            "2022-08-14 17:23:46,432 [INFO ]  lambda_l1:1\n",
            "INFO:root:lambda_ter:1\n",
            "2022-08-14 17:23:46,432 [INFO ]  lambda_ter:1\n",
            "INFO:root:lambda_flow:0.01\n",
            "2022-08-14 17:23:46,432 [INFO ]  lambda_flow:0.01\n",
            "INFO:root:lambda_perceptual:1\n",
            "2022-08-14 17:23:46,432 [INFO ]  lambda_perceptual:1\n",
            "INFO:root:lambda_adv:0.005\n",
            "2022-08-14 17:23:46,432 [INFO ]  lambda_adv:0.005\n",
            "INFO:root:resume:\n",
            "2022-08-14 17:23:46,432 [INFO ]  resume:\n",
            "INFO:root:resume_optim:\n",
            "2022-08-14 17:23:46,432 [INFO ]  resume_optim:\n",
            "INFO:root:resume_scheduler:\n",
            "2022-08-14 17:23:46,433 [INFO ]  resume_scheduler:\n",
            "INFO:root:resume_flownet:\n",
            "2022-08-14 17:23:46,433 [INFO ]  resume_flownet:\n",
            "INFO:root:log_freq:10\n",
            "2022-08-14 17:23:46,433 [INFO ]  log_freq:10\n",
            "INFO:root:vis_freq:50000\n",
            "2022-08-14 17:23:46,433 [INFO ]  vis_freq:50000\n",
            "INFO:root:save_epoch_freq:5\n",
            "2022-08-14 17:23:46,433 [INFO ]  save_epoch_freq:5\n",
            "INFO:root:test_freq:100\n",
            "2022-08-14 17:23:46,433 [INFO ]  test_freq:100\n",
            "INFO:root:save_folder:./weights/train_VFIformerSmall\n",
            "2022-08-14 17:23:46,433 [INFO ]  save_folder:./weights/train_VFIformerSmall\n",
            "INFO:root:vis_step_freq:100\n",
            "2022-08-14 17:23:46,434 [INFO ]  vis_step_freq:100\n",
            "INFO:root:use_tb_logger:True\n",
            "2022-08-14 17:23:46,434 [INFO ]  use_tb_logger:True\n",
            "INFO:root:save_test_results:False\n",
            "2022-08-14 17:23:46,434 [INFO ]  save_test_results:False\n",
            "INFO:root:ref_level:1\n",
            "2022-08-14 17:23:46,434 [INFO ]  ref_level:1\n",
            "INFO:root:dist:True\n",
            "2022-08-14 17:23:46,434 [INFO ]  dist:True\n",
            "INFO:root:world_size:1\n",
            "2022-08-14 17:23:46,434 [INFO ]  world_size:1\n",
            "INFO:root:rank:0\n",
            "2022-08-14 17:23:46,434 [INFO ]  rank:0\n",
            "INFO:root:vis_save_dir:./weights/train_VFIformerSmall/vis\n",
            "2022-08-14 17:23:46,435 [INFO ]  vis_save_dir:./weights/train_VFIformerSmall/vis\n",
            "INFO:root:snapshot_save_dir:./weights/train_VFIformerSmall/snapshot\n",
            "2022-08-14 17:23:46,435 [INFO ]  snapshot_save_dir:./weights/train_VFIformerSmall/snapshot\n",
            "INFO:root:----- generator parameters: 17.024426 -----\n",
            "2022-08-14 17:23:58,381 [INFO ]  ----- generator parameters: 17.024426 -----\n",
            "INFO:root:init criterion and optimizer...\n",
            "2022-08-14 17:23:58,382 [INFO ]  init criterion and optimizer...\n",
            "INFO:root:  using l1 loss...\n",
            "2022-08-14 17:23:58,384 [INFO ]    using l1 loss...\n",
            "INFO:root:  using flow loss...\n",
            "2022-08-14 17:23:58,385 [INFO ]    using flow loss...\n",
            "INFO:root:  using ter loss...\n",
            "2022-08-14 17:23:58,385 [INFO ]    using ter loss...\n",
            "INFO:root:training on  ...VimeoDataset\n",
            "2022-08-14 17:23:58,385 [INFO ]  training on  ...VimeoDataset\n",
            "INFO:root:20 training samples\n",
            "2022-08-14 17:23:58,386 [INFO ]  20 training samples\n",
            "INFO:root:the init lr: 0.000100\n",
            "2022-08-14 17:23:58,386 [INFO ]  the init lr: 0.000100\n",
            "INFO:root:Saving state, epoch: 0 iter:0\n",
            "2022-08-14 17:24:03,476 [INFO ]  Saving state, epoch: 0 iter:0\n",
            "INFO:root:Saving state, epoch: 5 iter:0\n",
            "2022-08-14 17:24:28,678 [INFO ]  Saving state, epoch: 5 iter:0\n",
            "INFO:root:Saving state, epoch: 10 iter:0\n",
            "2022-08-14 17:24:53,761 [INFO ]  Saving state, epoch: 10 iter:0\n",
            "INFO:root:Saving state, epoch: 15 iter:0\n",
            "2022-08-14 17:25:18,603 [INFO ]  Saving state, epoch: 15 iter:0\n",
            "INFO:root:Saving state, epoch: 20 iter:0\n",
            "2022-08-14 17:25:45,346 [INFO ]  Saving state, epoch: 20 iter:0\n",
            "INFO:root:Saving state, epoch: 25 iter:0\n",
            "2022-08-14 17:26:10,133 [INFO ]  Saving state, epoch: 25 iter:0\n",
            "INFO:root:Saving state, epoch: 30 iter:0\n",
            "2022-08-14 17:26:34,989 [INFO ]  Saving state, epoch: 30 iter:0\n",
            "INFO:root:Saving state, epoch: 35 iter:0\n",
            "2022-08-14 17:26:59,957 [INFO ]  Saving state, epoch: 35 iter:0\n",
            "INFO:root:Saving state, epoch: 40 iter:0\n",
            "2022-08-14 17:27:24,882 [INFO ]  Saving state, epoch: 40 iter:0\n",
            "INFO:root:Saving state, epoch: 45 iter:0\n",
            "2022-08-14 17:27:49,779 [INFO ]  Saving state, epoch: 45 iter:0\n",
            "INFO:root:Saving state, epoch: 50 iter:0\n",
            "2022-08-14 17:28:16,320 [INFO ]  Saving state, epoch: 50 iter:0\n",
            "INFO:root:Saving state, epoch: 55 iter:0\n",
            "2022-08-14 17:28:41,079 [INFO ]  Saving state, epoch: 55 iter:0\n",
            "INFO:root:Saving state, epoch: 60 iter:0\n",
            "2022-08-14 17:29:05,898 [INFO ]  Saving state, epoch: 60 iter:0\n",
            "INFO:root:Saving state, epoch: 65 iter:0\n",
            "2022-08-14 17:29:30,719 [INFO ]  Saving state, epoch: 65 iter:0\n",
            "INFO:root:Saving state, epoch: 70 iter:0\n",
            "2022-08-14 17:29:55,630 [INFO ]  Saving state, epoch: 70 iter:0\n",
            "INFO:root:Saving state, epoch: 75 iter:0\n",
            "2022-08-14 17:30:22,047 [INFO ]  Saving state, epoch: 75 iter:0\n",
            "INFO:root:Saving state, epoch: 80 iter:0\n",
            "2022-08-14 17:30:46,898 [INFO ]  Saving state, epoch: 80 iter:0\n",
            "INFO:root:Saving state, epoch: 85 iter:0\n",
            "2022-08-14 17:31:11,782 [INFO ]  Saving state, epoch: 85 iter:0\n",
            "INFO:root:Saving state, epoch: 90 iter:0\n",
            "2022-08-14 17:31:36,648 [INFO ]  Saving state, epoch: 90 iter:0\n"
          ]
        }
      ]
    }
  ],
  "metadata": {
    "language_info": {
      "name": "python"
    },
    "orig_nbformat": 4,
    "colab": {
      "name": "VFIFormer.ipynb",
      "provenance": [],
      "include_colab_link": true
    },
    "kernelspec": {
      "name": "python3",
      "display_name": "Python 3"
    },
    "gpuClass": "standard",
    "accelerator": "GPU"
  },
  "nbformat": 4,
  "nbformat_minor": 0
}