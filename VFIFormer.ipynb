{
  "cells": [
    {
      "cell_type": "code",
      "source": [
        "from google.colab import drive\n",
        "drive.mount('/content/drive', force_remount=True)"
      ],
      "metadata": {
        "id": "Wro-793iCP7w",
        "outputId": "a50c0ba3-393e-4d06-f465-454e7858d74f",
        "colab": {
          "base_uri": "https://localhost:8080/"
        }
      },
      "execution_count": 2,
      "outputs": [
        {
          "output_type": "stream",
          "name": "stdout",
          "text": [
            "Mounted at /content/drive\n"
          ]
        }
      ]
    },
    {
      "cell_type": "code",
      "source": [
        "with open('/content/drive/My Drive/foo.txt', 'w') as f:\n",
        "  f.write('Hello Google Drive!')\n",
        "!cat /content/drive/My\\ Drive/foo.txt"
      ],
      "metadata": {
        "id": "A12QcaVOCZjl",
        "outputId": "d8c68f8a-2135-49b6-f9cb-752b45b95ed0",
        "colab": {
          "base_uri": "https://localhost:8080/"
        }
      },
      "execution_count": null,
      "outputs": [
        {
          "output_type": "stream",
          "name": "stdout",
          "text": [
            "Hello Google Drive!"
          ]
        }
      ]
    },
    {
      "cell_type": "code",
      "source": [
        "!git clone https://github.com/trieuduongle/VFIformer.git '/content/drive/My Drive/Duong/VFIformer/code'"
      ],
      "metadata": {
        "id": "M9Vb0A2-EcvB",
        "outputId": "9e6d2f91-aeb1-476c-f0e6-139d04598317",
        "colab": {
          "base_uri": "https://localhost:8080/"
        }
      },
      "execution_count": null,
      "outputs": [
        {
          "output_type": "stream",
          "name": "stdout",
          "text": [
            "fatal: destination path '/content/drive/My Drive/Duong/VFIformer' already exists and is not an empty directory.\n"
          ]
        }
      ]
    },
    {
      "cell_type": "code",
      "source": [
        "%cd '/content/drive/My Drive/Duong/VFIformer/code'"
      ],
      "metadata": {
        "id": "cO72eFDsHF-3",
        "outputId": "4f225204-5e8a-4655-e80a-f6280739c59f",
        "colab": {
          "base_uri": "https://localhost:8080/"
        }
      },
      "execution_count": 3,
      "outputs": [
        {
          "output_type": "stream",
          "name": "stdout",
          "text": [
            "/content/drive/My Drive/Duong/VFIformer/code\n"
          ]
        }
      ]
    },
    {
      "cell_type": "code",
      "source": [
        "!sudo apt-get update -y && sudo apt-get install python3.9"
      ],
      "metadata": {
        "id": "CiLkHhCBKexJ",
        "outputId": "ad690d17-ba8e-49e9-d93e-5132b3abd3a1",
        "colab": {
          "base_uri": "https://localhost:8080/"
        }
      },
      "execution_count": 17,
      "outputs": [
        {
          "output_type": "stream",
          "name": "stdout",
          "text": [
            "Hit:1 https://cloud.r-project.org/bin/linux/ubuntu bionic-cran40/ InRelease\n",
            "Hit:2 http://ppa.launchpad.net/c2d4u.team/c2d4u4.0+/ubuntu bionic InRelease\n",
            "Ign:3 https://developer.download.nvidia.com/compute/machine-learning/repos/ubuntu1804/x86_64  InRelease\n",
            "Hit:4 https://developer.download.nvidia.com/compute/cuda/repos/ubuntu1804/x86_64  InRelease\n",
            "Hit:5 https://developer.download.nvidia.com/compute/machine-learning/repos/ubuntu1804/x86_64  Release\n",
            "Hit:6 http://security.ubuntu.com/ubuntu bionic-security InRelease\n",
            "Hit:7 http://archive.ubuntu.com/ubuntu bionic InRelease\n",
            "Hit:9 http://ppa.launchpad.net/cran/libgit2/ubuntu bionic InRelease\n",
            "Hit:10 http://archive.ubuntu.com/ubuntu bionic-updates InRelease\n",
            "Hit:11 http://archive.ubuntu.com/ubuntu bionic-backports InRelease\n",
            "Hit:12 http://ppa.launchpad.net/deadsnakes/ppa/ubuntu bionic InRelease\n",
            "Hit:13 http://ppa.launchpad.net/graphics-drivers/ppa/ubuntu bionic InRelease\n",
            "Reading package lists... Done\n",
            "Reading package lists... Done\n",
            "Building dependency tree       \n",
            "Reading state information... Done\n",
            "python3.9 is already the newest version (3.9.15-1+bionic1).\n",
            "The following package was automatically installed and is no longer required:\n",
            "  libnvidia-common-460\n",
            "Use 'sudo apt autoremove' to remove it.\n",
            "0 upgraded, 0 newly installed, 0 to remove and 5 not upgraded.\n"
          ]
        }
      ]
    },
    {
      "cell_type": "code",
      "source": [
        "ls /usr/bin"
      ],
      "metadata": {
        "id": "gXATNbBQ8xnj",
        "outputId": "5be61f13-ed8e-45c5-c8d6-b993d153fcad",
        "colab": {
          "base_uri": "https://localhost:8080/"
        }
      },
      "execution_count": 18,
      "outputs": [
        {
          "output_type": "stream",
          "name": "stdout",
          "text": [
            "\u001b[0m\u001b[01;32m'['\u001b[0m*                                   \u001b[01;32mnamei\u001b[0m*\n",
            " \u001b[01;32m2to3-2.7\u001b[0m*                             \u001b[01;36mnawk\u001b[0m@\n",
            " \u001b[01;32m7z\u001b[0m*                                   \u001b[01;32mncal\u001b[0m*\n",
            " \u001b[01;32m7za\u001b[0m*                                  \u001b[01;32mnc-config\u001b[0m*\n",
            " \u001b[01;32m7zr\u001b[0m*                                  \u001b[01;32mncurses5-config\u001b[0m*\n",
            " \u001b[01;32macyclic\u001b[0m*                              \u001b[01;32mnearblack\u001b[0m*\n",
            " \u001b[01;32madd-apt-repository\u001b[0m*                   \u001b[01;36mneato\u001b[0m@\n",
            " \u001b[01;32maddpart\u001b[0m*                              \u001b[01;32mneqn\u001b[0m*\n",
            " \u001b[01;36maddr2line\u001b[0m@                            \u001b[37;41mnewgrp\u001b[0m*\n",
            " \u001b[01;36mapropos\u001b[0m@                              \u001b[01;32mnice\u001b[0m*\n",
            " \u001b[01;32mapt\u001b[0m*                                  \u001b[01;32mnl\u001b[0m*\n",
            " \u001b[01;36mapt-add-repository\u001b[0m@                   \u001b[01;36mnm\u001b[0m@\n",
            " \u001b[01;32mapt-cache\u001b[0m*                            \u001b[01;32mnns\u001b[0m*\n",
            " \u001b[01;32mapt-cdrom\u001b[0m*                            \u001b[01;32mnnsd\u001b[0m*\n",
            " \u001b[01;32mapt-config\u001b[0m*                           \u001b[01;32mnnslog\u001b[0m*\n",
            " \u001b[01;32mapt-extracttemplates\u001b[0m*                 \u001b[01;32mnohup\u001b[0m*\n",
            " \u001b[01;32mapt-ftparchive\u001b[0m*                       \u001b[01;32mnop\u001b[0m*\n",
            " \u001b[01;32mapt-get\u001b[0m*                              \u001b[01;32mnproc\u001b[0m*\n",
            " \u001b[01;32mapt-key\u001b[0m*                              \u001b[01;32mnroff\u001b[0m*\n",
            " \u001b[01;32mapt-mark\u001b[0m*                             \u001b[01;32mnsenter\u001b[0m*\n",
            " \u001b[01;32mapt-sortpkgs\u001b[0m*                         \u001b[01;32mnstat\u001b[0m*\n",
            " \u001b[01;36mar\u001b[0m@                                   \u001b[01;32mnumfmt\u001b[0m*\n",
            " \u001b[01;32march\u001b[0m*                                 \u001b[01;32mnvidia-bug-report.sh\u001b[0m*\n",
            " \u001b[01;36mas\u001b[0m@                                   \u001b[01;32mnvidia-cuda-mps-control\u001b[0m*\n",
            " \u001b[01;36masan_symbolize\u001b[0m@                       \u001b[01;32mnvidia-cuda-mps-server\u001b[0m*\n",
            " \u001b[01;32masan_symbolize-6.0\u001b[0m*                   \u001b[01;32mnvidia-debugdump\u001b[0m*\n",
            " \u001b[01;36massistant\u001b[0m@                            \u001b[37;41mnvidia-modprobe\u001b[0m*\n",
            " \u001b[01;36mawk\u001b[0m@                                  \u001b[01;32mnvidia-persistenced\u001b[0m*\n",
            " \u001b[01;36mb2\u001b[0m@                                   \u001b[01;32mnvidia-powerd\u001b[0m*\n",
            " \u001b[01;32mb2sum\u001b[0m*                                \u001b[01;32mnvidia-settings\u001b[0m*\n",
            " \u001b[01;32mbase32\u001b[0m*                               \u001b[01;32mnvidia-smi\u001b[0m*\n",
            " \u001b[01;32mbase64\u001b[0m*                               \u001b[01;32mnvidia-xconfig\u001b[0m*\n",
            " \u001b[01;32mbasename\u001b[0m*                             \u001b[01;36mobjcopy\u001b[0m@\n",
            " \u001b[01;32mbashbug\u001b[0m*                              \u001b[01;36mobjdump\u001b[0m@\n",
            " \u001b[01;32mbcomps\u001b[0m*                               \u001b[01;32mod\u001b[0m*\n",
            " \u001b[01;32mbcp\u001b[0m*                                  \u001b[01;32modbcinst\u001b[0m*\n",
            " \u001b[01;32mbjam\u001b[0m*                                 \u001b[01;32mogdi-config\u001b[0m*\n",
            " \u001b[01;32mbootctl\u001b[0m*                              \u001b[01;32mogr2ogr\u001b[0m*\n",
            " \u001b[01;36mbrowse\u001b[0m@                               \u001b[01;32mogrinfo\u001b[0m*\n",
            " \u001b[01;32mbsd-from\u001b[0m*                             \u001b[01;32mogrlineref\u001b[0m*\n",
            " \u001b[30;43mbsd-write\u001b[0m*                            \u001b[01;32mogrmerge.py\u001b[0m*\n",
            " \u001b[01;32mbusctl\u001b[0m*                               \u001b[01;32mogrtindex\u001b[0m*\n",
            " \u001b[01;36mc++\u001b[0m@                                  \u001b[01;36mompi-clean\u001b[0m@\n",
            " \u001b[01;36mc89\u001b[0m@                                  \u001b[01;32mompi_info\u001b[0m*\n",
            " \u001b[01;32mc89-gcc\u001b[0m*                              \u001b[01;36mompi-ps\u001b[0m@\n",
            " \u001b[01;36mc99\u001b[0m@                                  \u001b[01;36mompi-server\u001b[0m@\n",
            " \u001b[01;32mc99-gcc\u001b[0m*                              \u001b[01;36mompi-top\u001b[0m@\n",
            " \u001b[01;36mcal\u001b[0m@                                  \u001b[01;36mopalc++\u001b[0m@\n",
            " \u001b[01;32mcalendar\u001b[0m*                             \u001b[01;36mopalcc\u001b[0m@\n",
            " \u001b[01;36mcaptoinfo\u001b[0m@                            \u001b[01;32mopal_wrapper\u001b[0m*\n",
            " \u001b[01;32mcatchsegv\u001b[0m*                            \u001b[01;32mopencv_annotation\u001b[0m*\n",
            " \u001b[01;32mcatman\u001b[0m*                               \u001b[01;32mopencv_createsamples\u001b[0m*\n",
            " \u001b[01;32mcautious-launcher\u001b[0m*                    \u001b[01;32mopencv_interactive-calibration\u001b[0m*\n",
            " \u001b[01;36mcc\u001b[0m@                                   \u001b[01;32mopencv_traincascade\u001b[0m*\n",
            " \u001b[01;32mccomps\u001b[0m*                               \u001b[01;32mopencv_version\u001b[0m*\n",
            " \u001b[01;36mc++filt\u001b[0m@                              \u001b[01;32mopencv_visualisation\u001b[0m*\n",
            " \u001b[30;43mchage\u001b[0m*                                \u001b[01;32mopencv_waldboost_detector\u001b[0m*\n",
            " \u001b[01;32mchattr\u001b[0m*                               \u001b[01;32mopenssl\u001b[0m*\n",
            " \u001b[01;32mchcon\u001b[0m*                                \u001b[01;32morte-clean\u001b[0m*\n",
            " \u001b[37;41mchfn\u001b[0m*                                 \u001b[01;32morted\u001b[0m*\n",
            " \u001b[01;32mchronic\u001b[0m*                              \u001b[01;32morte-dvm\u001b[0m*\n",
            " \u001b[01;32mchrt\u001b[0m*                                 \u001b[01;32morte-ps\u001b[0m*\n",
            " \u001b[37;41mchsh\u001b[0m*                                 \u001b[01;32morterun\u001b[0m*\n",
            " \u001b[01;36mcirco\u001b[0m@                                \u001b[01;32morte-server\u001b[0m*\n",
            " \u001b[01;32mcksum\u001b[0m*                                \u001b[01;32morte-top\u001b[0m*\n",
            " \u001b[01;36mclang\u001b[0m@                                \u001b[01;36mosage\u001b[0m@\n",
            " \u001b[01;36mclang++\u001b[0m@                              \u001b[01;36moshcc\u001b[0m@\n",
            " \u001b[01;36mclang-6.0\u001b[0m@                            \u001b[01;36moshfort\u001b[0m@\n",
            " \u001b[01;36mclang++-6.0\u001b[0m@                          \u001b[01;32moshmem_info\u001b[0m*\n",
            " \u001b[01;36mclang-cpp-6.0\u001b[0m@                        \u001b[01;36moshrun\u001b[0m@\n",
            " \u001b[01;32mclear\u001b[0m*                                \u001b[01;32mp7zip\u001b[0m*\n",
            " \u001b[01;32mclear_console\u001b[0m*                        \u001b[01;36mpack200\u001b[0m@\n",
            " \u001b[01;32mclinfo\u001b[0m*                               \u001b[01;32mpage\u001b[0m*\n",
            " \u001b[01;32mcluster\u001b[0m*                              \u001b[01;36mpager\u001b[0m@\n",
            " \u001b[01;32mcmake\u001b[0m*                                \u001b[01;32mpandoc\u001b[0m*\n",
            " \u001b[01;32mcmp\u001b[0m*                                  \u001b[01;32mpaperconf\u001b[0m*\n",
            " \u001b[01;32mcol\u001b[0m*                                  \u001b[01;32mparallel\u001b[0m*\n",
            " \u001b[01;32mcolcrt\u001b[0m*                               \u001b[01;32mpartx\u001b[0m*\n",
            " \u001b[01;32mcolrm\u001b[0m*                                \u001b[37;41mpasswd\u001b[0m*\n",
            " \u001b[01;32mcolumn\u001b[0m*                               \u001b[01;32mpaste\u001b[0m*\n",
            " \u001b[01;32mcombine\u001b[0m*                              \u001b[01;32mpatch\u001b[0m*\n",
            " \u001b[01;32mcomm\u001b[0m*                                 \u001b[01;36mpatchwork\u001b[0m@\n",
            " \u001b[01;36mcompose\u001b[0m@                              \u001b[01;32mpathchk\u001b[0m*\n",
            " \u001b[01;32mcorelist\u001b[0m*                             \u001b[01;32mpcre2-config\u001b[0m*\n",
            " \u001b[01;32mcpack\u001b[0m*                                \u001b[01;32mpcre-config\u001b[0m*\n",
            " \u001b[01;32mcpan\u001b[0m*                                 \u001b[01;32mpct2rgb.py\u001b[0m*\n",
            " \u001b[01;32mcpan5.26-x86_64-linux-gnu\u001b[0m*            \u001b[01;36mpdb\u001b[0m@\n",
            " \u001b[01;36mcpp\u001b[0m@                                  \u001b[01;36mpdb2.7\u001b[0m@\n",
            " \u001b[01;36mcpp-7\u001b[0m@                                \u001b[01;36mpdb3\u001b[0m@\n",
            " \u001b[01;32mc_rehash\u001b[0m*                             \u001b[01;36mpdb3.10\u001b[0m@\n",
            " \u001b[01;32mcsplit\u001b[0m*                               \u001b[01;36mpdb3.6\u001b[0m@\n",
            " \u001b[01;32mctest\u001b[0m*                                \u001b[01;36mpdb3.7\u001b[0m@\n",
            " \u001b[01;36mctstat\u001b[0m@                               \u001b[01;36mpdb3.9\u001b[0m@\n",
            " \u001b[01;32mcurl\u001b[0m*                                 \u001b[01;32mpee\u001b[0m*\n",
            " \u001b[01;32mcurl-config\u001b[0m*                          \u001b[01;32mpeekfd\u001b[0m*\n",
            " \u001b[01;32mcut\u001b[0m*                                  \u001b[01;32mperl\u001b[0m*\n",
            " \u001b[01;32mcvt\u001b[0m*                                  \u001b[01;32mperl5.26.1\u001b[0m*\n",
            " \u001b[01;32mdap-config\u001b[0m*                           \u001b[01;32mperl5.26-x86_64-linux-gnu\u001b[0m*\n",
            " \u001b[01;32mdbus-cleanup-sockets\u001b[0m*                 \u001b[01;32mperlbug\u001b[0m*\n",
            " \u001b[01;32mdbus-daemon\u001b[0m*                          \u001b[01;32mperldoc\u001b[0m*\n",
            " \u001b[01;32mdbus-monitor\u001b[0m*                         \u001b[01;32mperlivp\u001b[0m*\n",
            " \u001b[01;32mdbus-run-session\u001b[0m*                     \u001b[01;32mperlthanks\u001b[0m*\n",
            " \u001b[01;32mdbus-send\u001b[0m*                            \u001b[01;32mpg_config\u001b[0m*\n",
            " \u001b[01;32mdbus-update-activation-environment\u001b[0m*   \u001b[01;32mpgrep\u001b[0m*\n",
            " \u001b[01;32mdbus-uuidgen\u001b[0m*                         \u001b[01;32mpic\u001b[0m*\n",
            " \u001b[01;32mdebconf\u001b[0m*                              \u001b[01;32mpiconv\u001b[0m*\n",
            " \u001b[01;32mdebconf-apt-progress\u001b[0m*                 \u001b[01;36mpinentry\u001b[0m@\n",
            " \u001b[01;32mdebconf-communicate\u001b[0m*                  \u001b[01;32mpinentry-curses\u001b[0m*\n",
            " \u001b[01;32mdebconf-copydb\u001b[0m*                       \u001b[01;32mpinky\u001b[0m*\n",
            " \u001b[01;32mdebconf-escape\u001b[0m*                       \u001b[01;32mpip3\u001b[0m*\n",
            " \u001b[01;32mdebconf-set-selections\u001b[0m*               \u001b[01;36mpixeltool\u001b[0m@\n",
            " \u001b[01;32mdebconf-show\u001b[0m*                         \u001b[01;32mpkaction\u001b[0m*\n",
            " \u001b[01;32mdeb-systemd-helper\u001b[0m*                   \u001b[01;32mpkcheck\u001b[0m*\n",
            " \u001b[01;32mdeb-systemd-invoke\u001b[0m*                   \u001b[37;41mpkexec\u001b[0m*\n",
            " \u001b[01;32mdelpart\u001b[0m*                              \u001b[01;32mpkg-config\u001b[0m*\n",
            " \u001b[01;32mderb\u001b[0m*                                 \u001b[01;32mpkgdata\u001b[0m*\n",
            " \u001b[01;36mdesigner\u001b[0m@                             \u001b[01;36mpkill\u001b[0m@\n",
            " \u001b[01;32mdh_dkms\u001b[0m*                              \u001b[01;32mpkttyagent\u001b[0m*\n",
            " \u001b[01;32mdh_numpy\u001b[0m*                             \u001b[01;32mpl2pm\u001b[0m*\n",
            " \u001b[01;36mdh_pypy\u001b[0m@                              \u001b[01;32mpldd\u001b[0m*\n",
            " \u001b[01;32mdh_python2\u001b[0m*                           \u001b[01;32mpmap\u001b[0m*\n",
            " \u001b[01;36mdh_python3\u001b[0m@                           \u001b[01;32mpngfix\u001b[0m*\n",
            " \u001b[01;32mdiff\u001b[0m*                                 \u001b[01;32mpng-fix-itxt\u001b[0m*\n",
            " \u001b[01;32mdiff3\u001b[0m*                                \u001b[01;32mpod2html\u001b[0m*\n",
            " \u001b[01;32mdiffimg\u001b[0m*                              \u001b[01;32mpod2man\u001b[0m*\n",
            " \u001b[01;32mdijkstra\u001b[0m*                             \u001b[01;32mpod2text\u001b[0m*\n",
            " \u001b[01;32mdircolors\u001b[0m*                            \u001b[01;32mpod2usage\u001b[0m*\n",
            " \u001b[01;32mdirmngr\u001b[0m*                              \u001b[01;32mpodchecker\u001b[0m*\n",
            " \u001b[01;32mdirmngr-client\u001b[0m*                       \u001b[01;32mpodselect\u001b[0m*\n",
            " \u001b[01;32mdirname\u001b[0m*                              \u001b[01;32mpr\u001b[0m*\n",
            " \u001b[01;36mdot\u001b[0m@                                  \u001b[01;32mpreconv\u001b[0m*\n",
            " \u001b[01;36mdot2gxl\u001b[0m@                              \u001b[01;36mprename\u001b[0m@\n",
            " \u001b[01;32mdot_builtins\u001b[0m*                         \u001b[01;36mprint\u001b[0m@\n",
            " \u001b[01;32mdotty\u001b[0m*                                \u001b[01;32mprintenv\u001b[0m*\n",
            " \u001b[01;32mdpkg\u001b[0m*                                 \u001b[01;32mprinterbanner\u001b[0m*\n",
            " \u001b[01;32mdpkg-architecture\u001b[0m*                    \u001b[01;32mprintf\u001b[0m*\n",
            " \u001b[01;32mdpkg-buildflags\u001b[0m*                      \u001b[01;32mprlimit\u001b[0m*\n",
            " \u001b[01;32mdpkg-buildpackage\u001b[0m*                    \u001b[01;32mprotoc\u001b[0m*\n",
            " \u001b[01;32mdpkg-checkbuilddeps\u001b[0m*                  \u001b[01;32mprove\u001b[0m*\n",
            " \u001b[01;32mdpkg-deb\u001b[0m*                             \u001b[01;32mprtstat\u001b[0m*\n",
            " \u001b[01;32mdpkg-distaddfile\u001b[0m*                     \u001b[01;32mprune\u001b[0m*\n",
            " \u001b[01;32mdpkg-divert\u001b[0m*                          \u001b[01;32mpslog\u001b[0m*\n",
            " \u001b[01;32mdpkg-genbuildinfo\u001b[0m*                    \u001b[01;32mpstree\u001b[0m*\n",
            " \u001b[01;32mdpkg-genchanges\u001b[0m*                      \u001b[01;36mpstree.x11\u001b[0m@\n",
            " \u001b[01;32mdpkg-gencontrol\u001b[0m*                      \u001b[01;32mpt\u001b[0m*\n",
            " \u001b[01;32mdpkg-gensymbols\u001b[0m*                      \u001b[01;32mptar\u001b[0m*\n",
            " \u001b[01;32mdpkg-maintscript-helper\u001b[0m*              \u001b[01;32mptardiff\u001b[0m*\n",
            " \u001b[01;32mdpkg-mergechangelogs\u001b[0m*                 \u001b[01;32mptargrep\u001b[0m*\n",
            " \u001b[01;32mdpkg-name\u001b[0m*                            \u001b[01;32mptx\u001b[0m*\n",
            " \u001b[01;32mdpkg-parsechangelog\u001b[0m*                  \u001b[01;32mpwdx\u001b[0m*\n",
            " \u001b[01;32mdpkg-query\u001b[0m*                           \u001b[01;32mpy3clean\u001b[0m*\n",
            " \u001b[01;32mdpkg-scanpackages\u001b[0m*                    \u001b[01;32mpy3compile\u001b[0m*\n",
            " \u001b[01;32mdpkg-scansources\u001b[0m*                     \u001b[01;36mpy3versions\u001b[0m@\n",
            " \u001b[01;32mdpkg-shlibdeps\u001b[0m*                       \u001b[01;36mpybuild\u001b[0m@\n",
            " \u001b[01;32mdpkg-source\u001b[0m*                          \u001b[01;32mpyclean\u001b[0m*\n",
            " \u001b[01;32mdpkg-split\u001b[0m*                           \u001b[01;32mpycompile\u001b[0m*\n",
            " \u001b[01;32mdpkg-statoverride\u001b[0m*                    \u001b[01;36mpydoc\u001b[0m@\n",
            " \u001b[01;32mdpkg-trigger\u001b[0m*                         \u001b[01;32mpydoc2.7\u001b[0m*\n",
            " \u001b[01;32mdpkg-vendor\u001b[0m*                          \u001b[01;36mpydoc3\u001b[0m@\n",
            " \u001b[01;32mdtplite\u001b[0m*                              \u001b[01;32mpydoc3.10\u001b[0m*\n",
            " \u001b[01;32mdu\u001b[0m*                                   \u001b[01;32mpydoc3.6\u001b[0m*\n",
            " \u001b[01;32mdumpsexp\u001b[0m*                             \u001b[01;32mpydoc3.7\u001b[0m*\n",
            " \u001b[01;36mdwp\u001b[0m@                                  \u001b[01;32mpydoc3.9\u001b[0m*\n",
            " \u001b[01;32medgepaint\u001b[0m*                            \u001b[01;36mpygettext\u001b[0m@\n",
            " \u001b[01;36medit\u001b[0m@                                 \u001b[01;32mpygettext2.7\u001b[0m*\n",
            " \u001b[01;36meditor\u001b[0m@                               \u001b[01;36mpygettext3\u001b[0m@\n",
            " \u001b[01;36melfedit\u001b[0m@                              \u001b[01;32mpygettext3.10\u001b[0m*\n",
            " \u001b[01;32menc2xs\u001b[0m*                               \u001b[01;32mpygettext3.6\u001b[0m*\n",
            " \u001b[01;32mencguess\u001b[0m*                             \u001b[01;32mpygettext3.7\u001b[0m*\n",
            " \u001b[01;32menv\u001b[0m*                                  \u001b[01;32mpygettext3.9\u001b[0m*\n",
            " \u001b[01;32mepsg_tr.py\u001b[0m*                           \u001b[01;36mpython\u001b[0m@\n",
            " \u001b[01;32meqn\u001b[0m*                                  \u001b[01;36mpython2\u001b[0m@\n",
            " \u001b[01;32merrno\u001b[0m*                                \u001b[01;32mpython2.7\u001b[0m*\n",
            " \u001b[01;32mesri2wkt.py\u001b[0m*                          \u001b[01;36mpython2.7-config\u001b[0m@\n",
            " \u001b[01;36mex\u001b[0m@                                   \u001b[01;36mpython2-config\u001b[0m@\n",
            " \u001b[01;32mexpand\u001b[0m*                               \u001b[01;36mpython3\u001b[0m@\n",
            " \u001b[30;43mexpiry\u001b[0m*                               \u001b[01;32mpython3.10\u001b[0m*\n",
            " \u001b[01;32mexpr\u001b[0m*                                 \u001b[01;32mpython3.6\u001b[0m*\n",
            " \u001b[01;32mf2py\u001b[0m*                                 \u001b[01;36mpython3.6-config\u001b[0m@\n",
            " \u001b[01;32mf2py2.7\u001b[0m*                              \u001b[01;32mpython3.6m\u001b[0m*\n",
            " \u001b[01;36mf77\u001b[0m@                                  \u001b[01;36mpython3.6m-config\u001b[0m@\n",
            " \u001b[01;36mf95\u001b[0m@                                  \u001b[01;32mpython3.7\u001b[0m*\n",
            " \u001b[01;32mfactor\u001b[0m*                               \u001b[01;36mpython3.7-config\u001b[0m@\n",
            " \u001b[01;32mfaillog\u001b[0m*                              \u001b[01;32mpython3.7m\u001b[0m*\n",
            " \u001b[01;32mfallocate\u001b[0m*                            \u001b[01;36mpython3.7m-config\u001b[0m@\n",
            " \u001b[01;32mfc-cache\u001b[0m*                             \u001b[01;32mpython3.9\u001b[0m*\n",
            " \u001b[01;32mfc-cat\u001b[0m*                               \u001b[01;36mpython3-config\u001b[0m@\n",
            " \u001b[01;32mfc-list\u001b[0m*                              \u001b[01;36mpython3m\u001b[0m@\n",
            " \u001b[01;32mfc-match\u001b[0m*                             \u001b[01;36mpython3m-config\u001b[0m@\n",
            " \u001b[01;32mfc-pattern\u001b[0m*                           \u001b[01;36mpython-config\u001b[0m@\n",
            " \u001b[01;32mfc-query\u001b[0m*                             \u001b[01;32mpyvenv-3.7\u001b[0m*\n",
            " \u001b[01;32mfc-scan\u001b[0m*                              \u001b[01;36mpyversions\u001b[0m@\n",
            " \u001b[01;32mfc-validate\u001b[0m*                          \u001b[01;36mqcollectiongenerator\u001b[0m@\n",
            " \u001b[01;36mfdp\u001b[0m@                                  \u001b[01;36mqdbus\u001b[0m@\n",
            " \u001b[01;32mffmpeg\u001b[0m*                               \u001b[01;36mqdbuscpp2xml\u001b[0m@\n",
            " \u001b[01;32mffplay\u001b[0m*                               \u001b[01;36mqdbusviewer\u001b[0m@\n",
            " \u001b[01;32mffprobe\u001b[0m*                              \u001b[01;36mqdbusxml2cpp\u001b[0m@\n",
            " \u001b[01;32mffserver\u001b[0m*                             \u001b[01;36mqdoc\u001b[0m@\n",
            " \u001b[01;32mfi_info\u001b[0m*                              \u001b[01;36mqdoc3\u001b[0m@\n",
            " \u001b[01;32mfile-rename\u001b[0m*                          \u001b[01;36mqgltf\u001b[0m@\n",
            " \u001b[01;32mfind\u001b[0m*                                 \u001b[01;36mqhelpconverter\u001b[0m@\n",
            " \u001b[01;32mfio\u001b[0m*                                  \u001b[01;36mqhelpgenerator\u001b[0m@\n",
            " \u001b[01;32mfio2gnuplot\u001b[0m*                          \u001b[01;36mqlalr\u001b[0m@\n",
            " \u001b[01;32mfio-btrace2fio\u001b[0m*                       \u001b[01;36mqmake\u001b[0m@\n",
            " \u001b[01;32mfio-dedupe\u001b[0m*                           \u001b[01;36mqml\u001b[0m@\n",
            " \u001b[01;32mfio_generate_plots\u001b[0m*                   \u001b[01;36mqml1plugindump\u001b[0m@\n",
            " \u001b[01;32mfio-genzipf\u001b[0m*                          \u001b[01;36mqmlbundle\u001b[0m@\n",
            " \u001b[01;32mfi_pingpong\u001b[0m*                          \u001b[01;36mqmlcachegen\u001b[0m@\n",
            " \u001b[01;32mfi_strerror\u001b[0m*                          \u001b[01;36mqmleasing\u001b[0m@\n",
            " \u001b[01;32mflock\u001b[0m*                                \u001b[01;36mqmlimportscanner\u001b[0m@\n",
            " \u001b[01;32mfmt\u001b[0m*                                  \u001b[01;36mqmljs\u001b[0m@\n",
            " \u001b[01;32mfold\u001b[0m*                                 \u001b[01;36mqmllint\u001b[0m@\n",
            " \u001b[01;32mfree\u001b[0m*                                 \u001b[01;36mqmlmin\u001b[0m@\n",
            " \u001b[01;32mfreetype-config\u001b[0m*                      \u001b[01;36mqmlplugindump\u001b[0m@\n",
            " \u001b[01;36mfrom\u001b[0m@                                 \u001b[01;36mqmlprofiler\u001b[0m@\n",
            " \u001b[01;32mfunzip\u001b[0m*                               \u001b[01;36mqmlscene\u001b[0m@\n",
            " \u001b[01;36mg++\u001b[0m@                                  \u001b[01;36mqmltestrunner\u001b[0m@\n",
            " \u001b[01;36mg++-7\u001b[0m@                                \u001b[01;36mqmlviewer\u001b[0m@\n",
            " \u001b[01;32mgapplication\u001b[0m*                         \u001b[01;32mqtchooser\u001b[0m*\n",
            " \u001b[01;32mgc\u001b[0m*                                   \u001b[01;36mqtconfig\u001b[0m@\n",
            " \u001b[01;36mgcc\u001b[0m@                                  \u001b[01;36mqtdiag\u001b[0m@\n",
            " \u001b[01;36mgcc-7\u001b[0m@                                \u001b[01;32mqt-faststart\u001b[0m*\n",
            " \u001b[01;36mgcc-ar\u001b[0m@                               \u001b[01;36mqtpaths\u001b[0m@\n",
            " \u001b[01;36mgcc-ar-7\u001b[0m@                             \u001b[01;36mqtplugininfo\u001b[0m@\n",
            " \u001b[01;36mgcc-nm\u001b[0m@                               \u001b[01;32mquickbook\u001b[0m*\n",
            " \u001b[01;36mgcc-nm-7\u001b[0m@                             \u001b[01;36mqvkgen\u001b[0m@\n",
            " \u001b[01;36mgcc-ranlib\u001b[0m@                           \u001b[01;32mR\u001b[0m*\n",
            " \u001b[01;36mgcc-ranlib-7\u001b[0m@                         \u001b[01;36mranlib\u001b[0m@\n",
            " \u001b[01;36mgcov\u001b[0m@                                 \u001b[01;36mrcc\u001b[0m@\n",
            " \u001b[01;36mgcov-7\u001b[0m@                               \u001b[01;36mrcp\u001b[0m@\n",
            " \u001b[01;36mgcov-dump\u001b[0m@                            \u001b[01;32mrdma\u001b[0m*\n",
            " \u001b[01;36mgcov-dump-7\u001b[0m@                          \u001b[01;36mreadelf\u001b[0m@\n",
            " \u001b[01;36mgcov-tool\u001b[0m@                            \u001b[01;32mrealpath\u001b[0m*\n",
            " \u001b[01;36mgcov-tool-7\u001b[0m@                          \u001b[01;36mrename\u001b[0m@\n",
            " \u001b[01;32mgcps2vec.py\u001b[0m*                          \u001b[01;32mrename.ul\u001b[0m*\n",
            " \u001b[01;32mgcps2wld.py\u001b[0m*                          \u001b[01;32mrenice\u001b[0m*\n",
            " \u001b[01;32mgdal2tiles.py\u001b[0m*                        \u001b[01;36mrepc\u001b[0m@\n",
            " \u001b[01;32mgdal2xyz.py\u001b[0m*                          \u001b[01;36mreset\u001b[0m@\n",
            " \u001b[01;32mgdaladdo\u001b[0m*                             \u001b[01;32mresizepart\u001b[0m*\n",
            " \u001b[01;32mgdal_auth.py\u001b[0m*                         \u001b[01;32mrev\u001b[0m*\n",
            " \u001b[01;32mgdalbuildvrt\u001b[0m*                         \u001b[01;32mrgb2pct.py\u001b[0m*\n",
            " \u001b[01;32mgdal_calc.py\u001b[0m*                         \u001b[01;32mrgrep\u001b[0m*\n",
            " \u001b[01;32mgdalchksum.py\u001b[0m*                        \u001b[01;36mrlogin\u001b[0m@\n",
            " \u001b[01;32mgdalcompare.py\u001b[0m*                       \u001b[01;36mrmic\u001b[0m@\n",
            " \u001b[01;32mgdal-config\u001b[0m*                          \u001b[01;36mrmid\u001b[0m@\n",
            " \u001b[01;32mgdal_contour\u001b[0m*                         \u001b[01;36mrmiregistry\u001b[0m@\n",
            " \u001b[01;32mgdaldem\u001b[0m*                              \u001b[01;32mroutef\u001b[0m*\n",
            " \u001b[01;32mgdal_edit.py\u001b[0m*                         \u001b[01;32mroutel\u001b[0m*\n",
            " \u001b[01;32mgdalenhance\u001b[0m*                          \u001b[01;32mrpcgen\u001b[0m*\n",
            " \u001b[01;32mgdal_fillnodata.py\u001b[0m*                   \u001b[01;32mRscript\u001b[0m*\n",
            " \u001b[01;32mgdal_grid\u001b[0m*                            \u001b[01;36mrsh\u001b[0m@\n",
            " \u001b[01;32mgdalident.py\u001b[0m*                         \u001b[01;32mrsync\u001b[0m*\n",
            " \u001b[01;32mgdalimport.py\u001b[0m*                        \u001b[01;36mrtstat\u001b[0m@\n",
            " \u001b[01;32mgdalinfo\u001b[0m*                             \u001b[01;32mruncon\u001b[0m*\n",
            " \u001b[01;32mgdallocationinfo\u001b[0m*                     \u001b[01;32mrun-mailcap\u001b[0m*\n",
            " \u001b[01;32mgdalmanage\u001b[0m*                           \u001b[01;36mrview\u001b[0m@\n",
            " \u001b[01;32mgdal_merge.py\u001b[0m*                        \u001b[01;36mrvim\u001b[0m@\n",
            " \u001b[01;32mgdalmove.py\u001b[0m*                          \u001b[01;32msavelog\u001b[0m*\n",
            " \u001b[01;32mgdal_pansharpen.py\u001b[0m*                   \u001b[01;32msccmap\u001b[0m*\n",
            " \u001b[01;32mgdal_polygonize.py\u001b[0m*                   \u001b[01;32mscp\u001b[0m*\n",
            " \u001b[01;32mgdal_proximity.py\u001b[0m*                    \u001b[01;32mscript\u001b[0m*\n",
            " \u001b[01;32mgdal_rasterize\u001b[0m*                       \u001b[01;32mscriptreplay\u001b[0m*\n",
            " \u001b[01;32mgdal_retile.py\u001b[0m*                       \u001b[01;32msdiff\u001b[0m*\n",
            " \u001b[01;32mgdalserver\u001b[0m*                           \u001b[01;36msee\u001b[0m@\n",
            " \u001b[01;32mgdal_sieve.py\u001b[0m*                        \u001b[01;32mselect-editor\u001b[0m*\n",
            " \u001b[01;32mgdalsrsinfo\u001b[0m*                          \u001b[01;32msensible-browser\u001b[0m*\n",
            " \u001b[01;32mgdaltindex\u001b[0m*                           \u001b[01;32msensible-editor\u001b[0m*\n",
            " \u001b[01;32mgdaltransform\u001b[0m*                        \u001b[01;32msensible-pager\u001b[0m*\n",
            " \u001b[01;32mgdal_translate\u001b[0m*                       \u001b[01;32mseq\u001b[0m*\n",
            " \u001b[01;32mgdalwarp\u001b[0m*                             \u001b[01;36mserialver\u001b[0m@\n",
            " \u001b[01;32mgdbus\u001b[0m*                                \u001b[01;32msetarch\u001b[0m*\n",
            " \u001b[01;32mgdbus-codegen\u001b[0m*                        \u001b[01;32msetsid\u001b[0m*\n",
            " \u001b[01;32mgenbrk\u001b[0m*                               \u001b[01;32msetterm\u001b[0m*\n",
            " \u001b[01;32mgencat\u001b[0m*                               \u001b[01;32msetxkbmap\u001b[0m*\n",
            " \u001b[01;32mgencfu\u001b[0m*                               \u001b[01;36msfdp\u001b[0m@\n",
            " \u001b[01;32mgencnval\u001b[0m*                             \u001b[01;32msftp\u001b[0m*\n",
            " \u001b[01;32mgendict\u001b[0m*                              \u001b[01;36msg\u001b[0m@\n",
            " \u001b[01;32mgenfio\u001b[0m*                               \u001b[01;32msha1sum\u001b[0m*\n",
            " \u001b[01;32mgenrb\u001b[0m*                                \u001b[01;32msha224sum\u001b[0m*\n",
            " \u001b[01;32mgeos-config\u001b[0m*                          \u001b[01;32msha256sum\u001b[0m*\n",
            " \u001b[01;36mgeqn\u001b[0m@                                 \u001b[01;32msha384sum\u001b[0m*\n",
            " \u001b[01;32mgetconf\u001b[0m*                              \u001b[01;32msha512sum\u001b[0m*\n",
            " \u001b[01;32mgetent\u001b[0m*                               \u001b[01;32mshasum\u001b[0m*\n",
            " \u001b[01;32mgetopt\u001b[0m*                               \u001b[01;32mshred\u001b[0m*\n",
            " \u001b[01;36mgfortran\u001b[0m@                             \u001b[01;32mshuf\u001b[0m*\n",
            " \u001b[01;36mgfortran-7\u001b[0m@                           \u001b[01;36msize\u001b[0m@\n",
            " \u001b[01;32mgio\u001b[0m*                                  \u001b[01;32mskill\u001b[0m*\n",
            " \u001b[01;36mgio-querymodules\u001b[0m@                     \u001b[01;32mslabtop\u001b[0m*\n",
            " \u001b[01;32mgit\u001b[0m*                                  \u001b[01;36mslogin\u001b[0m@\n",
            " \u001b[01;32mgit-lfs\u001b[0m*                              \u001b[01;36msnice\u001b[0m@\n",
            " \u001b[01;36mgit-receive-pack\u001b[0m@                     \u001b[01;32msoelim\u001b[0m*\n",
            " \u001b[01;32mgit-shell\u001b[0m*                            \u001b[01;32msort\u001b[0m*\n",
            " \u001b[01;36mgit-upload-archive\u001b[0m@                   \u001b[01;32msotruss\u001b[0m*\n",
            " \u001b[01;32mgit-upload-pack\u001b[0m*                      \u001b[01;32msplain\u001b[0m*\n",
            " \u001b[01;32mglib-compile-resources\u001b[0m*               \u001b[01;32msplit\u001b[0m*\n",
            " \u001b[01;36mglib-compile-schemas\u001b[0m@                 \u001b[01;32msponge\u001b[0m*\n",
            " \u001b[01;32mglib-genmarshal\u001b[0m*                      \u001b[01;32msprof\u001b[0m*\n",
            " \u001b[01;32mglib-gettextize\u001b[0m*                      \u001b[01;32mssh\u001b[0m*\n",
            " \u001b[01;32mglib-mkenums\u001b[0m*                         \u001b[01;32mssh-add\u001b[0m*\n",
            " \u001b[01;32mgml2gv\u001b[0m*                               \u001b[30;43mssh-agent\u001b[0m*\n",
            " \u001b[01;32mgnmanalyse\u001b[0m*                           \u001b[01;32mssh-argv0\u001b[0m*\n",
            " \u001b[01;32mgnmmanage\u001b[0m*                            \u001b[01;32mssh-copy-id\u001b[0m*\n",
            " \u001b[01;32mgobject-query\u001b[0m*                        \u001b[01;32mssh-keygen\u001b[0m*\n",
            " \u001b[01;36mgold\u001b[0m@                                 \u001b[01;32mssh-keyscan\u001b[0m*\n",
            " \u001b[01;32mgoogle-pprof\u001b[0m*                         \u001b[01;32mstat\u001b[0m*\n",
            " \u001b[37;41mgpasswd\u001b[0m*                              \u001b[01;32mstdbuf\u001b[0m*\n",
            " \u001b[01;32mgpg\u001b[0m*                                  \u001b[01;36mstrings\u001b[0m@\n",
            " \u001b[01;36mgpg2\u001b[0m@                                 \u001b[01;36mstrip\u001b[0m@\n",
            " \u001b[01;32mgpg-agent\u001b[0m*                            \u001b[37;41msudo\u001b[0m*\n",
            " \u001b[01;32mgpgconf\u001b[0m*                              \u001b[01;36msudoedit\u001b[0m@\n",
            " \u001b[01;32mgpg-connect-agent\u001b[0m*                    \u001b[01;32msudoreplay\u001b[0m*\n",
            " \u001b[01;32mgpg-error\u001b[0m*                            \u001b[01;32msum\u001b[0m*\n",
            " \u001b[01;32mgpg-error-config\u001b[0m*                     \u001b[01;32msymcryptrun\u001b[0m*\n",
            " \u001b[01;32mgpgparsemail\u001b[0m*                         \u001b[01;32msystemd-analyze\u001b[0m*\n",
            " \u001b[01;32mgpgsm\u001b[0m*                                \u001b[01;32msystemd-cat\u001b[0m*\n",
            " \u001b[01;32mgpgsplit\u001b[0m*                             \u001b[01;32msystemd-cgls\u001b[0m*\n",
            " \u001b[01;32mgpgv\u001b[0m*                                 \u001b[01;32msystemd-cgtop\u001b[0m*\n",
            " \u001b[01;32mgpg-wks-server\u001b[0m*                       \u001b[01;32msystemd-delta\u001b[0m*\n",
            " \u001b[01;32mgpg-zip\u001b[0m*                              \u001b[01;32msystemd-detect-virt\u001b[0m*\n",
            " \u001b[01;36mgpic\u001b[0m@                                 \u001b[01;32msystemd-mount\u001b[0m*\n",
            " \u001b[01;36mgprof\u001b[0m@                                \u001b[01;32msystemd-path\u001b[0m*\n",
            " \u001b[01;32mgraphml2gv\u001b[0m*                           \u001b[01;32msystemd-resolve\u001b[0m*\n",
            " \u001b[01;32mgresource\u001b[0m*                            \u001b[01;32msystemd-run\u001b[0m*\n",
            " \u001b[01;32mgroff\u001b[0m*                                \u001b[01;32msystemd-socket-activate\u001b[0m*\n",
            " \u001b[01;32mgrog\u001b[0m*                                 \u001b[01;32msystemd-stdio-bridge\u001b[0m*\n",
            " \u001b[01;32mgrops\u001b[0m*                                \u001b[01;36msystemd-umount\u001b[0m@\n",
            " \u001b[01;32mgrotty\u001b[0m*                               \u001b[01;32mtabs\u001b[0m*\n",
            " \u001b[01;32mgroups\u001b[0m*                               \u001b[01;32mtac\u001b[0m*\n",
            " \u001b[01;32mgsettings\u001b[0m*                            \u001b[01;32mtail\u001b[0m*\n",
            " \u001b[01;36mgtbl\u001b[0m@                                 \u001b[01;32mtaskset\u001b[0m*\n",
            " \u001b[01;32mgtester\u001b[0m*                              \u001b[01;32mtbl\u001b[0m*\n",
            " \u001b[01;32mgtester-report\u001b[0m*                       \u001b[01;32mtcldocstrip\u001b[0m*\n",
            " \u001b[01;32mgtf\u001b[0m*                                  \u001b[01;36mtclsh\u001b[0m@\n",
            " \u001b[01;32mgtk-update-icon-cache\u001b[0m*                \u001b[01;32mtclsh8.6\u001b[0m*\n",
            " \u001b[01;32mgv2gml\u001b[0m*                               \u001b[01;32mtcltk-depends\u001b[0m*\n",
            " \u001b[01;36mgv2gxl\u001b[0m@                               \u001b[01;32mtee\u001b[0m*\n",
            " \u001b[01;32mgvcolor\u001b[0m*                              \u001b[01;32mtest\u001b[0m*\n",
            " \u001b[01;32mgvgen\u001b[0m*                                \u001b[01;32mtestepsg\u001b[0m*\n",
            " \u001b[01;32mgvmap\u001b[0m*                                \u001b[01;32mtic\u001b[0m*\n",
            " \u001b[01;32mgvmap.sh\u001b[0m*                             \u001b[01;32mtimedatectl\u001b[0m*\n",
            " \u001b[01;32mgvpack\u001b[0m*                               \u001b[01;32mtimeout\u001b[0m*\n",
            " \u001b[01;32mgvpr\u001b[0m*                                 \u001b[01;32mtload\u001b[0m*\n",
            " \u001b[01;36mgxl2dot\u001b[0m@                              \u001b[01;32mtmux\u001b[0m*\n",
            " \u001b[01;32mgxl2gv\u001b[0m*                               \u001b[01;32mtoe\u001b[0m*\n",
            " \u001b[01;32mh2ph\u001b[0m*                                 \u001b[01;32mtop\u001b[0m*\n",
            " \u001b[01;32mh2xs\u001b[0m*                                 \u001b[01;36mtouch\u001b[0m@\n",
            " \u001b[01;32mh5c++\u001b[0m*                                \u001b[01;32mtput\u001b[0m*\n",
            " \u001b[01;32mh5cc\u001b[0m*                                 \u001b[01;32mtr\u001b[0m*\n",
            " \u001b[01;32mh5fc\u001b[0m*                                 \u001b[01;32mtred\u001b[0m*\n",
            " \u001b[01;36mhd\u001b[0m@                                   \u001b[01;32mtroff\u001b[0m*\n",
            " \u001b[01;32mhead\u001b[0m*                                 \u001b[01;32mtruncate\u001b[0m*\n",
            " \u001b[01;32mhelpztags\u001b[0m*                            \u001b[01;32mts\u001b[0m*\n",
            " \u001b[01;32mhexdump\u001b[0m*                              \u001b[01;32mtset\u001b[0m*\n",
            " \u001b[01;32mhmac256\u001b[0m*                              \u001b[01;32mtsort\u001b[0m*\n",
            " \u001b[01;32mhostid\u001b[0m*                               \u001b[01;32mtty\u001b[0m*\n",
            " \u001b[01;32mhostnamectl\u001b[0m*                          \u001b[01;36mtwopi\u001b[0m@\n",
            " \u001b[01;36mi386\u001b[0m@                                 \u001b[01;32mtzselect\u001b[0m*\n",
            " \u001b[01;32miconv\u001b[0m*                                \u001b[01;32mucf\u001b[0m*\n",
            " \u001b[01;32micu-config\u001b[0m*                           \u001b[01;32mucfq\u001b[0m*\n",
            " \u001b[01;32micuinfo\u001b[0m*                              \u001b[01;32mucfr\u001b[0m*\n",
            " \u001b[01;32mid\u001b[0m*                                   \u001b[01;32muconv\u001b[0m*\n",
            " \u001b[01;32mifdata\u001b[0m*                               \u001b[01;36muic\u001b[0m@\n",
            " \u001b[01;32mifne\u001b[0m*                                 \u001b[01;36muic3\u001b[0m@\n",
            " \u001b[01;32minfocmp\u001b[0m*                              \u001b[01;32mul\u001b[0m*\n",
            " \u001b[01;36minfotocap\u001b[0m@                            \u001b[01;32munexpand\u001b[0m*\n",
            " \u001b[01;32minspect\u001b[0m*                              \u001b[01;32munflatten\u001b[0m*\n",
            " \u001b[01;32minstall\u001b[0m*                              \u001b[01;32muniq\u001b[0m*\n",
            " \u001b[01;32minstmodsh\u001b[0m*                            \u001b[01;32munlink\u001b[0m*\n",
            " \u001b[01;32mionice\u001b[0m*                               \u001b[01;36munlzma\u001b[0m@\n",
            " \u001b[01;32mipcmk\u001b[0m*                                \u001b[01;36munpack200\u001b[0m@\n",
            " \u001b[01;32mipcrm\u001b[0m*                                \u001b[01;36munrar\u001b[0m@\n",
            " \u001b[01;32mipcs\u001b[0m*                                 \u001b[01;32munrar-nonfree\u001b[0m*\n",
            " \u001b[01;32mischroot\u001b[0m*                             \u001b[01;32munshare\u001b[0m*\n",
            " \u001b[01;32misutf8\u001b[0m*                               \u001b[01;36munxz\u001b[0m@\n",
            " \u001b[01;36mjaotc\u001b[0m@                                \u001b[01;32munzip\u001b[0m*\n",
            " \u001b[01;36mjar\u001b[0m@                                  \u001b[01;32munzipsfx\u001b[0m*\n",
            " \u001b[01;36mjarsigner\u001b[0m@                            \u001b[01;32mupdate-alternatives\u001b[0m*\n",
            " \u001b[01;36mjava\u001b[0m@                                 \u001b[01;32mupdate-mime-database\u001b[0m*\n",
            " \u001b[01;36mjavac\u001b[0m@                                \u001b[01;32muptime\u001b[0m*\n",
            " \u001b[01;36mjavadoc\u001b[0m@                              \u001b[01;32musers\u001b[0m*\n",
            " \u001b[01;36mjavap\u001b[0m@                                \u001b[01;32mutmpdump\u001b[0m*\n",
            " \u001b[01;36mjcmd\u001b[0m@                                 \u001b[01;36mvi\u001b[0m@\n",
            " \u001b[01;36mjdb\u001b[0m@                                  \u001b[01;32mvidir\u001b[0m*\n",
            " \u001b[01;36mjdeprscan\u001b[0m@                            \u001b[01;36mview\u001b[0m@\n",
            " \u001b[01;36mjdeps\u001b[0m@                                \u001b[01;36mvim\u001b[0m@\n",
            " \u001b[01;36mjexec\u001b[0m@                                \u001b[01;32mvim.basic\u001b[0m*\n",
            " \u001b[01;36mjfr\u001b[0m@                                  \u001b[01;36mvimdiff\u001b[0m@\n",
            " \u001b[01;36mjhsdb\u001b[0m@                                \u001b[01;32mvimdot\u001b[0m*\n",
            " \u001b[01;36mjimage\u001b[0m@                               \u001b[01;32mvimtutor\u001b[0m*\n",
            " \u001b[01;36mjinfo\u001b[0m@                                \u001b[01;32mvipe\u001b[0m*\n",
            " \u001b[01;36mjjs\u001b[0m@                                  \u001b[01;32mvmstat\u001b[0m*\n",
            " \u001b[01;36mjlink\u001b[0m@                                \u001b[01;36mw\u001b[0m@\n",
            " \u001b[01;36mjmap\u001b[0m@                                 \u001b[30;43mwall\u001b[0m*\n",
            " \u001b[01;36mjmod\u001b[0m@                                 \u001b[01;32mwatch\u001b[0m*\n",
            " \u001b[01;32mjoin\u001b[0m*                                 \u001b[01;32mwatchgnupg\u001b[0m*\n",
            " \u001b[01;36mjps\u001b[0m@                                  \u001b[01;32mwayland-scanner\u001b[0m*\n",
            " \u001b[01;36mjrunscript\u001b[0m@                           \u001b[01;32mwc\u001b[0m*\n",
            " \u001b[01;36mjshell\u001b[0m@                               \u001b[01;32mwget\u001b[0m*\n",
            " \u001b[01;32mjson_pp\u001b[0m*                              \u001b[01;32mwhatis\u001b[0m*\n",
            " \u001b[01;36mjstack\u001b[0m@                               \u001b[01;32mwhereis\u001b[0m*\n",
            " \u001b[01;36mjstat\u001b[0m@                                \u001b[01;36mwhich\u001b[0m@\n",
            " \u001b[01;36mjstatd\u001b[0m@                               \u001b[01;32mwho\u001b[0m*\n",
            " \u001b[01;32mkbxutil\u001b[0m*                              \u001b[01;32mwhoami\u001b[0m*\n",
            " \u001b[01;32mkernel-install\u001b[0m*                       \u001b[01;36mwish\u001b[0m@\n",
            " \u001b[01;32mkeyring\u001b[0m*                              \u001b[01;32mwish8.6\u001b[0m*\n",
            " \u001b[01;36mkeytool\u001b[0m@                              \u001b[01;32mw.procps\u001b[0m*\n",
            " \u001b[01;32mkillall\u001b[0m*                              \u001b[01;36mwrite\u001b[0m@\n",
            " \u001b[01;32mlast\u001b[0m*                                 \u001b[01;36mX\u001b[0m@\n",
            " \u001b[01;36mlastb\u001b[0m@                                \u001b[01;36mX11\u001b[0m@\n",
            " \u001b[01;32mlastlog\u001b[0m*                              \u001b[01;36mx86_64\u001b[0m@\n",
            " \u001b[01;32mlcf\u001b[0m*                                  \u001b[01;32mx86_64-linux-gnu-addr2line\u001b[0m*\n",
            " \u001b[01;32mlckdo\u001b[0m*                                \u001b[01;32mx86_64-linux-gnu-ar\u001b[0m*\n",
            " \u001b[01;36mlconvert\u001b[0m@                             \u001b[01;32mx86_64-linux-gnu-as\u001b[0m*\n",
            " \u001b[01;36mld\u001b[0m@                                   \u001b[01;32mx86_64-linux-gnu-c++filt\u001b[0m*\n",
            " \u001b[01;36mld.bfd\u001b[0m@                               \u001b[01;36mx86_64-linux-gnu-cpp\u001b[0m@\n",
            " \u001b[01;32mldd\u001b[0m*                                  \u001b[01;32mx86_64-linux-gnu-cpp-7\u001b[0m*\n",
            " \u001b[01;36mld.gold\u001b[0m@                              \u001b[01;32mx86_64-linux-gnu-dwp\u001b[0m*\n",
            " \u001b[01;32mlefty\u001b[0m*                                \u001b[01;32mx86_64-linux-gnu-elfedit\u001b[0m*\n",
            " \u001b[01;36mless\u001b[0m@                                 \u001b[01;36mx86_64-linux-gnu-g++\u001b[0m@\n",
            " \u001b[01;36mlessecho\u001b[0m@                             \u001b[01;32mx86_64-linux-gnu-g++-7\u001b[0m*\n",
            " \u001b[01;36mlessfile\u001b[0m@                             \u001b[01;36mx86_64-linux-gnu-gcc\u001b[0m@\n",
            " \u001b[01;36mlesskey\u001b[0m@                              \u001b[01;32mx86_64-linux-gnu-gcc-7\u001b[0m*\n",
            " \u001b[01;36mlesspipe\u001b[0m@                             \u001b[01;36mx86_64-linux-gnu-gcc-ar\u001b[0m@\n",
            " \u001b[01;32mlexgrog\u001b[0m*                              \u001b[01;32mx86_64-linux-gnu-gcc-ar-7\u001b[0m*\n",
            " \u001b[01;32mlibgcrypt-config\u001b[0m*                     \u001b[01;36mx86_64-linux-gnu-gcc-nm\u001b[0m@\n",
            " \u001b[01;32mlibnetcfg\u001b[0m*                            \u001b[01;32mx86_64-linux-gnu-gcc-nm-7\u001b[0m*\n",
            " \u001b[01;32mlibpng16-config\u001b[0m*                      \u001b[01;36mx86_64-linux-gnu-gcc-ranlib\u001b[0m@\n",
            " \u001b[01;36mlibpng-config\u001b[0m@                        \u001b[01;32mx86_64-linux-gnu-gcc-ranlib-7\u001b[0m*\n",
            " \u001b[01;36mlinguist\u001b[0m@                             \u001b[01;36mx86_64-linux-gnu-gcov\u001b[0m@\n",
            " \u001b[01;32mlink\u001b[0m*                                 \u001b[01;32mx86_64-linux-gnu-gcov-7\u001b[0m*\n",
            " \u001b[01;36mlinux32\u001b[0m@                              \u001b[01;36mx86_64-linux-gnu-gcov-dump\u001b[0m@\n",
            " \u001b[01;36mlinux64\u001b[0m@                              \u001b[01;32mx86_64-linux-gnu-gcov-dump-7\u001b[0m*\n",
            " \u001b[01;32mlneato\u001b[0m*                               \u001b[01;36mx86_64-linux-gnu-gcov-tool\u001b[0m@\n",
            " \u001b[01;32mlnstat\u001b[0m*                               \u001b[01;32mx86_64-linux-gnu-gcov-tool-7\u001b[0m*\n",
            " \u001b[01;32mlocale\u001b[0m*                               \u001b[01;36mx86_64-linux-gnu-gfortran\u001b[0m@\n",
            " \u001b[01;32mlocale-check\u001b[0m*                         \u001b[01;32mx86_64-linux-gnu-gfortran-7\u001b[0m*\n",
            " \u001b[01;32mlocalectl\u001b[0m*                            \u001b[01;36mx86_64-linux-gnu-gold\u001b[0m@\n",
            " \u001b[01;32mlocaledef\u001b[0m*                            \u001b[01;32mx86_64-linux-gnu-gprof\u001b[0m*\n",
            " \u001b[01;32mlogger\u001b[0m*                               \u001b[01;36mx86_64-linux-gnu-ld\u001b[0m@\n",
            " \u001b[01;32mlogname\u001b[0m*                              \u001b[01;32mx86_64-linux-gnu-ld.bfd\u001b[0m*\n",
            " \u001b[01;32mlook\u001b[0m*                                 \u001b[01;32mx86_64-linux-gnu-ld.gold\u001b[0m*\n",
            " \u001b[01;32mlorder\u001b[0m*                               \u001b[01;32mx86_64-linux-gnu-nm\u001b[0m*\n",
            " \u001b[01;36mlrelease\u001b[0m@                             \u001b[01;32mx86_64-linux-gnu-objcopy\u001b[0m*\n",
            " \u001b[01;32mlsattr\u001b[0m*                               \u001b[01;32mx86_64-linux-gnu-objdump\u001b[0m*\n",
            " \u001b[01;32mlsb_release\u001b[0m*                          \u001b[01;36mx86_64-linux-gnu-pkg-config\u001b[0m@\n",
            " \u001b[01;32mlscpu\u001b[0m*                                \u001b[01;32mx86_64-linux-gnu-python2.7-config\u001b[0m*\n",
            " \u001b[01;32mlsipc\u001b[0m*                                \u001b[01;36mx86_64-linux-gnu-python3.6-config\u001b[0m@\n",
            " \u001b[01;32mlslocks\u001b[0m*                              \u001b[01;32mx86_64-linux-gnu-python3.6m-config\u001b[0m*\n",
            " \u001b[01;32mlslogins\u001b[0m*                             \u001b[01;36mx86_64-linux-gnu-python3.7-config\u001b[0m@\n",
            " \u001b[01;32mlsmem\u001b[0m*                                \u001b[01;32mx86_64-linux-gnu-python3.7m-config\u001b[0m*\n",
            " \u001b[01;32mlsns\u001b[0m*                                 \u001b[01;36mx86_64-linux-gnu-python3-config\u001b[0m@\n",
            " \u001b[01;32mlsof\u001b[0m*                                 \u001b[01;36mx86_64-linux-gnu-python3m-config\u001b[0m@\n",
            " \u001b[01;32mlspgpot\u001b[0m*                              \u001b[01;36mx86_64-linux-gnu-python-config\u001b[0m@\n",
            " \u001b[01;36mlupdate\u001b[0m@                              \u001b[01;32mx86_64-linux-gnu-qmake\u001b[0m*\n",
            " \u001b[01;36mlzcat\u001b[0m@                                \u001b[01;32mx86_64-linux-gnu-ranlib\u001b[0m*\n",
            " \u001b[01;36mlzcmp\u001b[0m@                                \u001b[01;32mx86_64-linux-gnu-readelf\u001b[0m*\n",
            " \u001b[01;36mlzdiff\u001b[0m@                               \u001b[01;32mx86_64-linux-gnu-size\u001b[0m*\n",
            " \u001b[01;36mlzegrep\u001b[0m@                              \u001b[01;32mx86_64-linux-gnu-strings\u001b[0m*\n",
            " \u001b[01;36mlzfgrep\u001b[0m@                              \u001b[01;32mx86_64-linux-gnu-strip\u001b[0m*\n",
            " \u001b[01;36mlzgrep\u001b[0m@                               \u001b[01;32mx86_64-pc-linux-gnu-pkg-config\u001b[0m*\n",
            " \u001b[01;36mlzless\u001b[0m@                               \u001b[01;32mxargs\u001b[0m*\n",
            " \u001b[01;36mlzma\u001b[0m@                                 \u001b[01;32mxauth\u001b[0m*\n",
            " \u001b[01;32mlzmainfo\u001b[0m*                             \u001b[01;32mxdg-desktop-icon\u001b[0m*\n",
            " \u001b[01;36mlzmore\u001b[0m@                               \u001b[01;32mxdg-desktop-menu\u001b[0m*\n",
            " \u001b[01;32mmake\u001b[0m*                                 \u001b[01;32mxdg-email\u001b[0m*\n",
            " \u001b[01;32mmakeconv\u001b[0m*                             \u001b[01;32mxdg-icon-resource\u001b[0m*\n",
            " \u001b[01;32mmake-first-existing-target\u001b[0m*           \u001b[01;32mxdg-mime\u001b[0m*\n",
            " \u001b[01;32mman\u001b[0m*                                  \u001b[01;32mxdg-open\u001b[0m*\n",
            " \u001b[01;32mmandb\u001b[0m*                                \u001b[01;32mxdg-screensaver\u001b[0m*\n",
            " \u001b[01;32mmanpath\u001b[0m*                              \u001b[01;32mxdg-settings\u001b[0m*\n",
            " \u001b[01;32mmawk\u001b[0m*                                 \u001b[01;32mxkbbell\u001b[0m*\n",
            " \u001b[01;32mmcookie\u001b[0m*                              \u001b[01;32mxkbcomp\u001b[0m*\n",
            " \u001b[01;32mmd5sum\u001b[0m*                               \u001b[01;32mxkbevd\u001b[0m*\n",
            " \u001b[01;36mmd5sum.textutils\u001b[0m@                     \u001b[01;32mxkbprint\u001b[0m*\n",
            " \u001b[01;32mmesg\u001b[0m*                                 \u001b[01;32mxkbvleds\u001b[0m*\n",
            " \u001b[01;32mmigrate-pubring-from-classic-gpg\u001b[0m*     \u001b[01;32mxkbwatch\u001b[0m*\n",
            " \u001b[01;32mmingle\u001b[0m*                               \u001b[01;32mxml2-config\u001b[0m*\n",
            " \u001b[01;32mmispipe\u001b[0m*                              \u001b[01;36mxmlpatterns\u001b[0m@\n",
            " \u001b[01;32mmkfifo\u001b[0m*                               \u001b[01;36mxmlpatternsvalidator\u001b[0m@\n",
            " \u001b[01;32mmkgraticule.py\u001b[0m*                       \u001b[01;32mXorg\u001b[0m*\n",
            " \u001b[01;32mmm2gv\u001b[0m*                                \u001b[01;32mxsel\u001b[0m*\n",
            " \u001b[01;36mmoc\u001b[0m@                                  \u001b[01;32mxsubpp\u001b[0m*\n",
            " \u001b[01;32mmpexpand\u001b[0m*                             \u001b[01;32mxxd\u001b[0m*\n",
            " \u001b[01;36mmpic++\u001b[0m@                               \u001b[01;32mxz\u001b[0m*\n",
            " \u001b[01;32mmpicalc\u001b[0m*                              \u001b[01;36mxzcat\u001b[0m@\n",
            " \u001b[01;36mmpicc\u001b[0m@                                \u001b[01;36mxzcmp\u001b[0m@\n",
            " \u001b[01;36mmpiCC\u001b[0m@                                \u001b[01;32mxzdiff\u001b[0m*\n",
            " \u001b[01;36mmpicc.openmpi\u001b[0m@                        \u001b[01;36mxzegrep\u001b[0m@\n",
            " \u001b[01;36mmpiCC.openmpi\u001b[0m@                        \u001b[01;36mxzfgrep\u001b[0m@\n",
            " \u001b[01;36mmpic++.openmpi\u001b[0m@                       \u001b[01;32mxzgrep\u001b[0m*\n",
            " \u001b[01;36mmpicxx\u001b[0m@                               \u001b[01;32mxzless\u001b[0m*\n",
            " \u001b[01;36mmpicxx.openmpi\u001b[0m@                       \u001b[01;32mxzmore\u001b[0m*\n",
            " \u001b[01;36mmpiexec\u001b[0m@                              \u001b[01;36myaml-bench-6.0\u001b[0m@\n",
            " \u001b[01;36mmpiexec.openmpi\u001b[0m@                      \u001b[01;32myat2m\u001b[0m*\n",
            " \u001b[01;36mmpif77\u001b[0m@                               \u001b[01;32myes\u001b[0m*\n",
            " \u001b[01;36mmpif77.openmpi\u001b[0m@                       \u001b[01;32mzdump\u001b[0m*\n",
            " \u001b[01;36mmpif90\u001b[0m@                               \u001b[01;32mzip\u001b[0m*\n",
            " \u001b[01;36mmpif90.openmpi\u001b[0m@                       \u001b[01;32mzipcloak\u001b[0m*\n",
            " \u001b[01;36mmpifort\u001b[0m@                              \u001b[01;32mzipdetails\u001b[0m*\n",
            " \u001b[01;36mmpifort.openmpi\u001b[0m@                      \u001b[01;32mzipgrep\u001b[0m*\n",
            " \u001b[01;36mmpirun\u001b[0m@                               \u001b[01;32mzipinfo\u001b[0m*\n",
            " \u001b[01;36mmpirun.openmpi\u001b[0m@                       \u001b[01;32mzipnote\u001b[0m*\n",
            " \u001b[01;32mmtrace\u001b[0m*                               \u001b[01;32mzipsplit\u001b[0m*\n",
            " \u001b[01;32mmysql_config\u001b[0m*                         \u001b[01;32mzrun\u001b[0m*\n"
          ]
        }
      ]
    },
    {
      "cell_type": "code",
      "source": [
        "!sudo update-alternatives --install /usr/bin/python3 python3 /usr/bin/python3.9* 3\n",
        "!sudo update-alternatives --config python3"
      ],
      "metadata": {
        "id": "_vCsDMK586ib",
        "outputId": "f9acd0be-1fa4-4b70-b81d-a2c3dfbfd1d0",
        "colab": {
          "base_uri": "https://localhost:8080/"
        }
      },
      "execution_count": 21,
      "outputs": [
        {
          "output_type": "stream",
          "name": "stdout",
          "text": [
            "There are 4 choices for the alternative python3 (providing /usr/bin/python3).\n",
            "\n",
            "  Selection    Path                 Priority   Status\n",
            "------------------------------------------------------------\n",
            "  0            /usr/bin/python3.9    3         auto mode\n",
            "* 1            /usr/bin/python3.10   1         manual mode\n",
            "  2            /usr/bin/python3.6    1         manual mode\n",
            "  3            /usr/bin/python3.7    2         manual mode\n",
            "  4            /usr/bin/python3.9    3         manual mode\n",
            "\n",
            "Press <enter> to keep the current choice[*], or type selection number: 0\n",
            "update-alternatives: using /usr/bin/python3.9 to provide /usr/bin/python3 (python3) in auto mode\n"
          ]
        }
      ]
    },
    {
      "cell_type": "code",
      "source": [
        "!sudo apt install python3.9-distutils\n",
        "!python -m pip install --upgrade pip"
      ],
      "metadata": {
        "id": "X5-6wEGr9OSn",
        "outputId": "bfa65b58-70c5-431f-bc9b-893681cff13e",
        "colab": {
          "base_uri": "https://localhost:8080/"
        }
      },
      "execution_count": 26,
      "outputs": [
        {
          "output_type": "stream",
          "name": "stdout",
          "text": [
            "Reading package lists... Done\n",
            "Building dependency tree       \n",
            "Reading state information... Done\n",
            "python3.9-distutils is already the newest version (3.9.15-1+bionic1).\n",
            "The following package was automatically installed and is no longer required:\n",
            "  libnvidia-common-460\n",
            "Use 'sudo apt autoremove' to remove it.\n",
            "0 upgraded, 0 newly installed, 0 to remove and 5 not upgraded.\n",
            "Collecting pip\n",
            "  Downloading https://files.pythonhosted.org/packages/09/bd/2410905c76ee14c62baf69e3f4aa780226c1bbfc9485731ad018e35b0cb5/pip-22.3.1-py3-none-any.whl (2.1MB)\n",
            "\u001b[K    100% |████████████████████████████████| 2.1MB 745kB/s \n",
            "\u001b[?25hInstalling collected packages: pip\n",
            "  Found existing installation: pip 9.0.1\n",
            "    Not uninstalling pip at /usr/lib/python3/dist-packages, outside environment /usr\n",
            "Successfully installed pip-22.3.1\n"
          ]
        }
      ]
    },
    {
      "cell_type": "code",
      "source": [
        "!sudo update-alternatives --install /usr/bin/python3 python3 /usr/bin/python3.10 1\n",
        "!sudo update-alternatives --config python3\n",
        "!python --version\n",
        "!sudo apt install python3-pip"
      ],
      "metadata": {
        "id": "y9A_FHz3L3Xo",
        "outputId": "128481c6-8369-4f8f-f03e-d3043658745a",
        "colab": {
          "base_uri": "https://localhost:8080/"
        }
      },
      "execution_count": 22,
      "outputs": [
        {
          "output_type": "stream",
          "name": "stdout",
          "text": [
            "There are 4 choices for the alternative python3 (providing /usr/bin/python3).\n",
            "\n",
            "  Selection    Path                 Priority   Status\n",
            "------------------------------------------------------------\n",
            "* 0            /usr/bin/python3.9    3         auto mode\n",
            "  1            /usr/bin/python3.10   1         manual mode\n",
            "  2            /usr/bin/python3.6    1         manual mode\n",
            "  3            /usr/bin/python3.7    2         manual mode\n",
            "  4            /usr/bin/python3.9    3         manual mode\n",
            "\n",
            "Press <enter> to keep the current choice[*], or type selection number: 0\n",
            "Python 3.9.15\n",
            "Reading package lists... Done\n",
            "Building dependency tree       \n",
            "Reading state information... Done\n",
            "python3-pip is already the newest version (9.0.1-2.3~ubuntu1.18.04.5).\n",
            "The following package was automatically installed and is no longer required:\n",
            "  libnvidia-common-460\n",
            "Use 'sudo apt autoremove' to remove it.\n",
            "0 upgraded, 0 newly installed, 0 to remove and 5 not upgraded.\n"
          ]
        }
      ]
    },
    {
      "cell_type": "code",
      "source": [
        "!git checkout colab && git pull && pip install -r requirements.txt -f https://download.pytorch.org/whl/cu111/torch_stable.html"
      ],
      "metadata": {
        "id": "IbMoodR4I95F",
        "outputId": "39371848-6a6c-410a-cdfe-3cd40de051bc",
        "colab": {
          "base_uri": "https://localhost:8080/"
        }
      },
      "execution_count": 4,
      "outputs": [
        {
          "output_type": "stream",
          "name": "stdout",
          "text": [
            "Already on 'colab'\n",
            "Your branch is up to date with 'origin/colab'.\n",
            "Already up to date.\n",
            "Looking in indexes: https://pypi.org/simple, https://us-python.pkg.dev/colab-wheels/public/simple/\n",
            "Looking in links: https://download.pytorch.org/whl/cu111/torch_stable.html\n",
            "Collecting matplotlib==3.5.3\n",
            "  Downloading matplotlib-3.5.3-cp37-cp37m-manylinux_2_5_x86_64.manylinux1_x86_64.whl (11.2 MB)\n",
            "\u001b[K     |████████████████████████████████| 11.2 MB 8.1 MB/s \n",
            "\u001b[?25hRequirement already satisfied: numpy==1.21.6 in /usr/local/lib/python3.7/dist-packages (from -r requirements.txt (line 2)) (1.21.6)\n",
            "Requirement already satisfied: opencv_python==4.6.0.66 in /usr/local/lib/python3.7/dist-packages (from -r requirements.txt (line 3)) (4.6.0.66)\n",
            "Collecting Pillow==9.2.0\n",
            "  Downloading Pillow-9.2.0-cp37-cp37m-manylinux_2_17_x86_64.manylinux2014_x86_64.whl (3.1 MB)\n",
            "\u001b[K     |████████████████████████████████| 3.1 MB 46.4 MB/s \n",
            "\u001b[?25hRequirement already satisfied: scipy==1.7.3 in /usr/local/lib/python3.7/dist-packages (from -r requirements.txt (line 5)) (1.7.3)\n",
            "Collecting tensorboardX==2.5.1\n",
            "  Downloading tensorboardX-2.5.1-py2.py3-none-any.whl (125 kB)\n",
            "\u001b[K     |████████████████████████████████| 125 kB 43.0 MB/s \n",
            "\u001b[?25hCollecting timm==0.6.7\n",
            "  Downloading timm-0.6.7-py3-none-any.whl (509 kB)\n",
            "\u001b[K     |████████████████████████████████| 509 kB 49.7 MB/s \n",
            "\u001b[?25hCollecting torch==1.8.1+cu111\n",
            "  Downloading https://download.pytorch.org/whl/cu111/torch-1.8.1%2Bcu111-cp37-cp37m-linux_x86_64.whl (1982.2 MB)\n",
            "\u001b[K     |█████████████▌                  | 834.1 MB 1.5 MB/s eta 0:13:08tcmalloc: large alloc 1147494400 bytes == 0x39adc000 @  0x7fef37da4615 0x58ead6 0x4f355e 0x4d222f 0x51041f 0x5b4ee6 0x58ff2e 0x510325 0x5b4ee6 0x58ff2e 0x50d482 0x4d00fb 0x50cb8d 0x4d00fb 0x50cb8d 0x4d00fb 0x50cb8d 0x4bac0a 0x538a76 0x590ae5 0x510280 0x5b4ee6 0x58ff2e 0x50d482 0x5b4ee6 0x58ff2e 0x50c4fc 0x58fd37 0x50ca37 0x5b4ee6 0x58ff2e\n",
            "\u001b[K     |█████████████████               | 1055.7 MB 1.3 MB/s eta 0:11:46tcmalloc: large alloc 1434370048 bytes == 0x7e132000 @  0x7fef37da4615 0x58ead6 0x4f355e 0x4d222f 0x51041f 0x5b4ee6 0x58ff2e 0x510325 0x5b4ee6 0x58ff2e 0x50d482 0x4d00fb 0x50cb8d 0x4d00fb 0x50cb8d 0x4d00fb 0x50cb8d 0x4bac0a 0x538a76 0x590ae5 0x510280 0x5b4ee6 0x58ff2e 0x50d482 0x5b4ee6 0x58ff2e 0x50c4fc 0x58fd37 0x50ca37 0x5b4ee6 0x58ff2e\n",
            "\u001b[K     |█████████████████████▋          | 1336.2 MB 1.3 MB/s eta 0:08:23tcmalloc: large alloc 1792966656 bytes == 0x2f64000 @  0x7fef37da4615 0x58ead6 0x4f355e 0x4d222f 0x51041f 0x5b4ee6 0x58ff2e 0x510325 0x5b4ee6 0x58ff2e 0x50d482 0x4d00fb 0x50cb8d 0x4d00fb 0x50cb8d 0x4d00fb 0x50cb8d 0x4bac0a 0x538a76 0x590ae5 0x510280 0x5b4ee6 0x58ff2e 0x50d482 0x5b4ee6 0x58ff2e 0x50c4fc 0x58fd37 0x50ca37 0x5b4ee6 0x58ff2e\n",
            "\u001b[K     |███████████████████████████▎    | 1691.1 MB 1.2 MB/s eta 0:04:06tcmalloc: large alloc 2241208320 bytes == 0x6dd4c000 @  0x7fef37da4615 0x58ead6 0x4f355e 0x4d222f 0x51041f 0x5b4ee6 0x58ff2e 0x510325 0x5b4ee6 0x58ff2e 0x50d482 0x4d00fb 0x50cb8d 0x4d00fb 0x50cb8d 0x4d00fb 0x50cb8d 0x4bac0a 0x538a76 0x590ae5 0x510280 0x5b4ee6 0x58ff2e 0x50d482 0x5b4ee6 0x58ff2e 0x50c4fc 0x58fd37 0x50ca37 0x5b4ee6 0x58ff2e\n",
            "\u001b[K     |████████████████████████████████| 1982.2 MB 1.3 MB/s eta 0:00:01tcmalloc: large alloc 1982177280 bytes == 0xf36ae000 @  0x7fef37da31e7 0x4b2590 0x4b261c 0x58ead6 0x4f355e 0x4d222f 0x51041f 0x5b4ee6 0x58ff2e 0x50ca37 0x5b4ee6 0x58ff2e 0x50ca37 0x5b4ee6 0x58ff2e 0x50ca37 0x5b4ee6 0x58ff2e 0x50ca37 0x5b4ee6 0x58ff2e 0x50ca37 0x58fd37 0x50ca37 0x5b4ee6 0x58ff2e 0x50d482 0x5b4ee6 0x58ff2e 0x50d482 0x5b4ee6\n",
            "tcmalloc: large alloc 2477727744 bytes == 0x169908000 @  0x7fef37da4615 0x58ead6 0x4f355e 0x4d222f 0x51041f 0x5b4ee6 0x58ff2e 0x50ca37 0x5b4ee6 0x58ff2e 0x50ca37 0x5b4ee6 0x58ff2e 0x50ca37 0x5b4ee6 0x58ff2e 0x50ca37 0x5b4ee6 0x58ff2e 0x50ca37 0x58fd37 0x50ca37 0x5b4ee6 0x58ff2e 0x50d482 0x5b4ee6 0x58ff2e 0x50d482 0x5b4ee6 0x4bad99 0x4d3249\n",
            "\u001b[K     |████████████████████████████████| 1982.2 MB 2.4 kB/s \n",
            "\u001b[?25hCollecting torchvision==0.9.1+cu111\n",
            "  Downloading https://download.pytorch.org/whl/cu111/torchvision-0.9.1%2Bcu111-cp37-cp37m-linux_x86_64.whl (17.6 MB)\n",
            "\u001b[K     |████████████████████████████████| 17.6 MB 1.3 MB/s \n",
            "\u001b[?25hRequirement already satisfied: pyparsing>=2.2.1 in /usr/local/lib/python3.7/dist-packages (from matplotlib==3.5.3->-r requirements.txt (line 1)) (3.0.9)\n",
            "Collecting fonttools>=4.22.0\n",
            "  Downloading fonttools-4.38.0-py3-none-any.whl (965 kB)\n",
            "\u001b[K     |████████████████████████████████| 965 kB 54.1 MB/s \n",
            "\u001b[?25hRequirement already satisfied: kiwisolver>=1.0.1 in /usr/local/lib/python3.7/dist-packages (from matplotlib==3.5.3->-r requirements.txt (line 1)) (1.4.4)\n",
            "Requirement already satisfied: packaging>=20.0 in /usr/local/lib/python3.7/dist-packages (from matplotlib==3.5.3->-r requirements.txt (line 1)) (21.3)\n",
            "Requirement already satisfied: cycler>=0.10 in /usr/local/lib/python3.7/dist-packages (from matplotlib==3.5.3->-r requirements.txt (line 1)) (0.11.0)\n",
            "Requirement already satisfied: python-dateutil>=2.7 in /usr/local/lib/python3.7/dist-packages (from matplotlib==3.5.3->-r requirements.txt (line 1)) (2.8.2)\n",
            "Requirement already satisfied: protobuf<=3.20.1,>=3.8.0 in /usr/local/lib/python3.7/dist-packages (from tensorboardX==2.5.1->-r requirements.txt (line 6)) (3.19.6)\n",
            "Requirement already satisfied: typing-extensions in /usr/local/lib/python3.7/dist-packages (from torch==1.8.1+cu111->-r requirements.txt (line 8)) (4.1.1)\n",
            "Requirement already satisfied: six>=1.5 in /usr/local/lib/python3.7/dist-packages (from python-dateutil>=2.7->matplotlib==3.5.3->-r requirements.txt (line 1)) (1.15.0)\n",
            "Installing collected packages: torch, Pillow, torchvision, fonttools, timm, tensorboardX, matplotlib\n",
            "  Attempting uninstall: torch\n",
            "    Found existing installation: torch 1.12.1+cu113\n",
            "    Uninstalling torch-1.12.1+cu113:\n",
            "      Successfully uninstalled torch-1.12.1+cu113\n",
            "  Attempting uninstall: Pillow\n",
            "    Found existing installation: Pillow 7.1.2\n",
            "    Uninstalling Pillow-7.1.2:\n",
            "      Successfully uninstalled Pillow-7.1.2\n",
            "  Attempting uninstall: torchvision\n",
            "    Found existing installation: torchvision 0.13.1+cu113\n",
            "    Uninstalling torchvision-0.13.1+cu113:\n",
            "      Successfully uninstalled torchvision-0.13.1+cu113\n",
            "  Attempting uninstall: matplotlib\n",
            "    Found existing installation: matplotlib 3.2.2\n",
            "    Uninstalling matplotlib-3.2.2:\n",
            "      Successfully uninstalled matplotlib-3.2.2\n",
            "\u001b[31mERROR: pip's dependency resolver does not currently take into account all the packages that are installed. This behaviour is the source of the following dependency conflicts.\n",
            "torchtext 0.13.1 requires torch==1.12.1, but you have torch 1.8.1+cu111 which is incompatible.\n",
            "torchaudio 0.12.1+cu113 requires torch==1.12.1, but you have torch 1.8.1+cu111 which is incompatible.\u001b[0m\n",
            "Successfully installed Pillow-9.2.0 fonttools-4.38.0 matplotlib-3.5.3 tensorboardX-2.5.1 timm-0.6.7 torch-1.8.1+cu111 torchvision-0.9.1+cu111\n"
          ]
        }
      ]
    },
    {
      "cell_type": "code",
      "source": [
        "!pip uninstall -r requirements.txt"
      ],
      "metadata": {
        "id": "syd88yVWQA28"
      },
      "execution_count": null,
      "outputs": []
    },
    {
      "cell_type": "code",
      "source": [
        "import torch\n",
        "torch.cuda.device_count()\n",
        "torch.cuda.is_available()\n",
        "torch.cuda.current_device()\n",
        "torch.cuda.device(0)\n",
        "torch.cuda.get_device_name(0)"
      ],
      "metadata": {
        "id": "xgg3AuNpCryO",
        "outputId": "2b927f08-b304-4004-a0d9-392c126882aa",
        "colab": {
          "base_uri": "https://localhost:8080/",
          "height": 381
        }
      },
      "execution_count": 5,
      "outputs": [
        {
          "output_type": "error",
          "ename": "RuntimeError",
          "evalue": "ignored",
          "traceback": [
            "\u001b[0;31m---------------------------------------------------------------------------\u001b[0m",
            "\u001b[0;31mRuntimeError\u001b[0m                              Traceback (most recent call last)",
            "\u001b[0;32m<ipython-input-5-65426ad33994>\u001b[0m in \u001b[0;36m<module>\u001b[0;34m\u001b[0m\n\u001b[1;32m      2\u001b[0m \u001b[0mtorch\u001b[0m\u001b[0;34m.\u001b[0m\u001b[0mcuda\u001b[0m\u001b[0;34m.\u001b[0m\u001b[0mdevice_count\u001b[0m\u001b[0;34m(\u001b[0m\u001b[0;34m)\u001b[0m\u001b[0;34m\u001b[0m\u001b[0;34m\u001b[0m\u001b[0m\n\u001b[1;32m      3\u001b[0m \u001b[0mtorch\u001b[0m\u001b[0;34m.\u001b[0m\u001b[0mcuda\u001b[0m\u001b[0;34m.\u001b[0m\u001b[0mis_available\u001b[0m\u001b[0;34m(\u001b[0m\u001b[0;34m)\u001b[0m\u001b[0;34m\u001b[0m\u001b[0;34m\u001b[0m\u001b[0m\n\u001b[0;32m----> 4\u001b[0;31m \u001b[0mtorch\u001b[0m\u001b[0;34m.\u001b[0m\u001b[0mcuda\u001b[0m\u001b[0;34m.\u001b[0m\u001b[0mcurrent_device\u001b[0m\u001b[0;34m(\u001b[0m\u001b[0;34m)\u001b[0m\u001b[0;34m\u001b[0m\u001b[0;34m\u001b[0m\u001b[0m\n\u001b[0m\u001b[1;32m      5\u001b[0m \u001b[0mtorch\u001b[0m\u001b[0;34m.\u001b[0m\u001b[0mcuda\u001b[0m\u001b[0;34m.\u001b[0m\u001b[0mdevice\u001b[0m\u001b[0;34m(\u001b[0m\u001b[0;36m0\u001b[0m\u001b[0;34m)\u001b[0m\u001b[0;34m\u001b[0m\u001b[0;34m\u001b[0m\u001b[0m\n\u001b[1;32m      6\u001b[0m \u001b[0mtorch\u001b[0m\u001b[0;34m.\u001b[0m\u001b[0mcuda\u001b[0m\u001b[0;34m.\u001b[0m\u001b[0mget_device_name\u001b[0m\u001b[0;34m(\u001b[0m\u001b[0;36m0\u001b[0m\u001b[0;34m)\u001b[0m\u001b[0;34m\u001b[0m\u001b[0;34m\u001b[0m\u001b[0m\n",
            "\u001b[0;32m/usr/local/lib/python3.7/dist-packages/torch/cuda/__init__.py\u001b[0m in \u001b[0;36mcurrent_device\u001b[0;34m()\u001b[0m\n\u001b[1;32m    386\u001b[0m \u001b[0;32mdef\u001b[0m \u001b[0mcurrent_device\u001b[0m\u001b[0;34m(\u001b[0m\u001b[0;34m)\u001b[0m \u001b[0;34m->\u001b[0m \u001b[0mint\u001b[0m\u001b[0;34m:\u001b[0m\u001b[0;34m\u001b[0m\u001b[0;34m\u001b[0m\u001b[0m\n\u001b[1;32m    387\u001b[0m     \u001b[0;34mr\"\"\"Returns the index of a currently selected device.\"\"\"\u001b[0m\u001b[0;34m\u001b[0m\u001b[0;34m\u001b[0m\u001b[0m\n\u001b[0;32m--> 388\u001b[0;31m     \u001b[0m_lazy_init\u001b[0m\u001b[0;34m(\u001b[0m\u001b[0;34m)\u001b[0m\u001b[0;34m\u001b[0m\u001b[0;34m\u001b[0m\u001b[0m\n\u001b[0m\u001b[1;32m    389\u001b[0m     \u001b[0;32mreturn\u001b[0m \u001b[0mtorch\u001b[0m\u001b[0;34m.\u001b[0m\u001b[0m_C\u001b[0m\u001b[0;34m.\u001b[0m\u001b[0m_cuda_getDevice\u001b[0m\u001b[0;34m(\u001b[0m\u001b[0;34m)\u001b[0m\u001b[0;34m\u001b[0m\u001b[0;34m\u001b[0m\u001b[0m\n\u001b[1;32m    390\u001b[0m \u001b[0;34m\u001b[0m\u001b[0m\n",
            "\u001b[0;32m/usr/local/lib/python3.7/dist-packages/torch/cuda/__init__.py\u001b[0m in \u001b[0;36m_lazy_init\u001b[0;34m()\u001b[0m\n\u001b[1;32m    168\u001b[0m         \u001b[0;31m# This function throws if there's a driver initialization error, no GPUs\u001b[0m\u001b[0;34m\u001b[0m\u001b[0;34m\u001b[0m\u001b[0;34m\u001b[0m\u001b[0m\n\u001b[1;32m    169\u001b[0m         \u001b[0;31m# are found or any other error occurs\u001b[0m\u001b[0;34m\u001b[0m\u001b[0;34m\u001b[0m\u001b[0;34m\u001b[0m\u001b[0m\n\u001b[0;32m--> 170\u001b[0;31m         \u001b[0mtorch\u001b[0m\u001b[0;34m.\u001b[0m\u001b[0m_C\u001b[0m\u001b[0;34m.\u001b[0m\u001b[0m_cuda_init\u001b[0m\u001b[0;34m(\u001b[0m\u001b[0;34m)\u001b[0m\u001b[0;34m\u001b[0m\u001b[0;34m\u001b[0m\u001b[0m\n\u001b[0m\u001b[1;32m    171\u001b[0m         \u001b[0;31m# Some of the queued calls may reentrantly call _lazy_init();\u001b[0m\u001b[0;34m\u001b[0m\u001b[0;34m\u001b[0m\u001b[0;34m\u001b[0m\u001b[0m\n\u001b[1;32m    172\u001b[0m         \u001b[0;31m# we need to just return without initializing in that case.\u001b[0m\u001b[0;34m\u001b[0m\u001b[0;34m\u001b[0m\u001b[0;34m\u001b[0m\u001b[0m\n",
            "\u001b[0;31mRuntimeError\u001b[0m: No CUDA GPUs are available"
          ]
        }
      ]
    },
    {
      "cell_type": "code",
      "source": [
        "!python -m torch.distributed.launch --nproc_per_node=4 --master_port=4174 train.py --launcher pytorch --gpu_ids -1 \\\n",
        "            --loss_flow --use_tb_logger --batch_size 48 --net_name IFNet --name train_IFNet --max_iter 300 --crop_size 192 --save_epoch_freq 5 \\\n",
        "            --data_root \"/content/drive/My Drive/Duong/datasets/vimeo-samples\""
      ],
      "metadata": {
        "id": "dWAMQQfeKyzJ",
        "outputId": "a5c8c177-fe19-4a2c-ce70-50dc2c2021fa",
        "colab": {
          "base_uri": "https://localhost:8080/"
        }
      },
      "execution_count": 6,
      "outputs": [
        {
          "output_type": "stream",
          "name": "stdout",
          "text": [
            "*****************************************\n",
            "Setting OMP_NUM_THREADS environment variable for each process to be 1 in default, to avoid your system being overloaded, please further tune the variable for optimal performance in your application as needed. \n",
            "*****************************************\n",
            "Killing subprocess 435\n",
            "Killing subprocess 436\n",
            "Killing subprocess 437\n",
            "Killing subprocess 438\n",
            "Main process received SIGINT, exiting\n",
            "^C\n"
          ]
        }
      ]
    },
    {
      "cell_type": "code",
      "source": [
        "from model.correlation import correlation"
      ],
      "metadata": {
        "id": "kGL2VWmSQBJK",
        "outputId": "a6cd2550-cc75-4fca-d6e3-9dfd981e872c",
        "colab": {
          "base_uri": "https://localhost:8080/",
          "height": 305
        }
      },
      "execution_count": 46,
      "outputs": [
        {
          "output_type": "error",
          "ename": "ModuleNotFoundError",
          "evalue": "ignored",
          "traceback": [
            "\u001b[0;31m---------------------------------------------------------------------------\u001b[0m",
            "\u001b[0;31mModuleNotFoundError\u001b[0m                       Traceback (most recent call last)",
            "\u001b[0;32m<ipython-input-46-c2f832901ce2>\u001b[0m in \u001b[0;36m<module>\u001b[0;34m\u001b[0m\n\u001b[0;32m----> 1\u001b[0;31m \u001b[0;32mfrom\u001b[0m \u001b[0mmodel\u001b[0m\u001b[0;34m.\u001b[0m\u001b[0mcorrelation\u001b[0m \u001b[0;32mimport\u001b[0m \u001b[0mcorrelation\u001b[0m\u001b[0;34m\u001b[0m\u001b[0;34m\u001b[0m\u001b[0m\n\u001b[0m",
            "\u001b[0;31mModuleNotFoundError\u001b[0m: No module named 'model'",
            "",
            "\u001b[0;31m---------------------------------------------------------------------------\u001b[0;32m\nNOTE: If your import is failing due to a missing package, you can\nmanually install dependencies using either !pip or !apt.\n\nTo view examples of installing some common dependencies, click the\n\"Open Examples\" button below.\n\u001b[0;31m---------------------------------------------------------------------------\u001b[0m\n"
          ],
          "errorDetails": {
            "actions": [
              {
                "action": "open_url",
                "actionText": "Open Examples",
                "url": "/notebooks/snippets/importing_libraries.ipynb"
              }
            ]
          }
        }
      ]
    },
    {
      "cell_type": "code",
      "source": [
        "!pip install cupy"
      ],
      "metadata": {
        "id": "wkXIswIbP4WV",
        "outputId": "a6181a4e-2b27-43c2-d309-0af819ee25ac",
        "colab": {
          "base_uri": "https://localhost:8080/"
        }
      },
      "execution_count": 9,
      "outputs": [
        {
          "output_type": "stream",
          "name": "stdout",
          "text": [
            "Looking in indexes: https://pypi.org/simple, https://us-python.pkg.dev/colab-wheels/public/simple/\n",
            "Collecting cupy\n",
            "  Downloading cupy-11.3.0.tar.gz (1.8 MB)\n",
            "\u001b[K     |████████████████████████████████| 1.8 MB 6.5 MB/s \n",
            "\u001b[?25hRequirement already satisfied: numpy<1.26,>=1.20 in /usr/local/lib/python3.7/dist-packages (from cupy) (1.21.6)\n",
            "Requirement already satisfied: fastrlock>=0.5 in /usr/local/lib/python3.7/dist-packages (from cupy) (0.8.1)\n",
            "Building wheels for collected packages: cupy\n",
            "  Building wheel for cupy (setup.py) ... \u001b[?25l\u001b[?25hdone\n",
            "  Created wheel for cupy: filename=cupy-11.3.0-cp37-cp37m-linux_x86_64.whl size=79586623 sha256=166d795dab723a53b22cfabb05f1b65fe94ef855d4c3df8117972a2c74229868\n",
            "  Stored in directory: /root/.cache/pip/wheels/6d/e8/ff/0fbe95a330dc0b1b514aae33715318e57522cdb559da69a0eb\n",
            "Successfully built cupy\n",
            "Installing collected packages: cupy\n",
            "Successfully installed cupy-11.3.0\n"
          ]
        }
      ]
    },
    {
      "cell_type": "code",
      "source": [
        "!python compute_flow_vimeo.py"
      ],
      "metadata": {
        "id": "7Dgb-CEeSynO",
        "outputId": "7d024c2e-6f39-4d49-a4ec-1e82c6672e2f",
        "colab": {
          "base_uri": "https://localhost:8080/"
        }
      },
      "execution_count": 10,
      "outputs": [
        {
          "output_type": "stream",
          "name": "stdout",
          "text": [
            "Traceback (most recent call last):\n",
            "  File \"compute_flow_vimeo.py\", line 16, in <module>\n",
            "    from .correlation import correlation # the custom cost volume layer\n",
            "ImportError: attempted relative import with no known parent package\n",
            "\n",
            "During handling of the above exception, another exception occurred:\n",
            "\n",
            "Traceback (most recent call last):\n",
            "  File \"/usr/local/lib/python3.7/dist-packages/cupy/__init__.py\", line 18, in <module>\n",
            "    from cupy import _core  # NOQA\n",
            "  File \"/usr/local/lib/python3.7/dist-packages/cupy/_core/__init__.py\", line 3, in <module>\n",
            "    from cupy._core import core  # NOQA\n",
            "  File \"cupy/_core/core.pyx\", line 1, in init cupy._core.core\n",
            "  File \"/usr/local/lib/python3.7/dist-packages/cupy/cuda/__init__.py\", line 8, in <module>\n",
            "    from cupy.cuda import compiler  # NOQA\n",
            "  File \"/usr/local/lib/python3.7/dist-packages/cupy/cuda/compiler.py\", line 13, in <module>\n",
            "    from cupy.cuda import device\n",
            "  File \"cupy/cuda/device.pyx\", line 1, in init cupy.cuda.device\n",
            "ImportError: /usr/local/lib/python3.7/dist-packages/cupy_backends/cuda/api/runtime.cpython-37m-x86_64-linux-gnu.so: symbol cudaMemPoolTrimTo version libcudart.so.11.0 not defined in file libcudart.so.11.0 with link time reference\n",
            "\n",
            "The above exception was the direct cause of the following exception:\n",
            "\n",
            "Traceback (most recent call last):\n",
            "  File \"compute_flow_vimeo.py\", line 18, in <module>\n",
            "    sys.path.insert(0, './correlation'); import correlation # you should consider upgrading python\n",
            "  File \"./correlation/correlation.py\", line 3, in <module>\n",
            "    import cupy\n",
            "  File \"/usr/local/lib/python3.7/dist-packages/cupy/__init__.py\", line 27, in <module>\n",
            "    ''') from exc\n",
            "ImportError: \n",
            "================================================================\n",
            "Failed to import CuPy.\n",
            "\n",
            "If you installed CuPy via wheels (cupy-cudaXXX or cupy-rocm-X-X), make sure that the package matches with the version of CUDA or ROCm installed.\n",
            "\n",
            "On Linux, you may need to set LD_LIBRARY_PATH environment variable depending on how you installed CUDA/ROCm.\n",
            "On Windows, try setting CUDA_PATH environment variable.\n",
            "\n",
            "Check the Installation Guide for details:\n",
            "  https://docs.cupy.dev/en/latest/install.html\n",
            "\n",
            "Original error:\n",
            "  ImportError: /usr/local/lib/python3.7/dist-packages/cupy_backends/cuda/api/runtime.cpython-37m-x86_64-linux-gnu.so: symbol cudaMemPoolTrimTo version libcudart.so.11.0 not defined in file libcudart.so.11.0 with link time reference\n",
            "================================================================\n",
            "\n"
          ]
        }
      ]
    },
    {
      "cell_type": "code",
      "source": [
        "!python -m torch.distributed.launch --nproc_per_node=4 --master_port=4174 train.py \\\n",
        "  --gpu_ids -1 --loss_flow --use_tb_logger --batch_size 48 --net_name IFNet \\\n",
        "  --name train_IFNet --max_iter 300 --crop_size 192 --save_epoch_freq 5 \\\n",
        "  --data_root \"/content/drive/My Drive/Duong/datasets/vimeo-samples\""
      ],
      "metadata": {
        "id": "f50QnvxmBFxX"
      },
      "execution_count": null,
      "outputs": []
    },
    {
      "cell_type": "code",
      "source": [
        "!python -m torch.distributed.launch --nproc_per_node=1 --master_port=4175 train.py --launcher pytorch --gpu_ids 0 \\\n",
        "            --loss_l1 --loss_ter --loss_flow --use_tb_logger --batch_size 24 --net_name VFIformer --name train_VFIformerFull --max_iter 300 \\\n",
        "            --crop_size 192 --save_epoch_freq 5 --data_root \"/content/drive/My Drive/Duong/datasets/vimeo-samples\" \\\n",
        "            --resume_flownet \"/content/drive/My Drive/Duong/VFIformer/finetuned-liteflownet-epoch1.pkl\""
      ],
      "metadata": {
        "id": "zEzvnwE0HbE5",
        "outputId": "b1497914-d79a-4dd9-fc02-bee2a270eb5c",
        "colab": {
          "base_uri": "https://localhost:8080/"
        }
      },
      "execution_count": 33,
      "outputs": [
        {
          "output_type": "stream",
          "name": "stdout",
          "text": [
            "INFO:root:Logging file is ./weights/train_VFIformerFull/20221120_031910.log\n",
            "2022-11-20 03:19:10,509 [INFO ]  Logging file is ./weights/train_VFIformerFull/20221120_031910.log\n",
            "INFO:root:random_seed:0\n",
            "2022-11-20 03:19:10,510 [INFO ]  random_seed:0\n",
            "INFO:root:name:train_VFIformerFull\n",
            "2022-11-20 03:19:10,511 [INFO ]  name:train_VFIformerFull\n",
            "INFO:root:phase:train\n",
            "2022-11-20 03:19:10,511 [INFO ]  phase:train\n",
            "INFO:root:gpu_ids:[0]\n",
            "2022-11-20 03:19:10,511 [INFO ]  gpu_ids:[0]\n",
            "INFO:root:launcher:pytorch\n",
            "2022-11-20 03:19:10,511 [INFO ]  launcher:pytorch\n",
            "INFO:root:local_rank:0\n",
            "2022-11-20 03:19:10,511 [INFO ]  local_rank:0\n",
            "INFO:root:net_name:VFIformer\n",
            "2022-11-20 03:19:10,511 [INFO ]  net_name:VFIformer\n",
            "INFO:root:window_size:8\n",
            "2022-11-20 03:19:10,511 [INFO ]  window_size:8\n",
            "INFO:root:data_root:/content/drive/My Drive/Duong/datasets/vimeo-samples\n",
            "2022-11-20 03:19:10,512 [INFO ]  data_root:/content/drive/My Drive/Duong/datasets/vimeo-samples\n",
            "INFO:root:trainset:VimeoDataset\n",
            "2022-11-20 03:19:10,512 [INFO ]  trainset:VimeoDataset\n",
            "INFO:root:testset:VimeoDataset\n",
            "2022-11-20 03:19:10,512 [INFO ]  testset:VimeoDataset\n",
            "INFO:root:save_test_root:generated\n",
            "2022-11-20 03:19:10,512 [INFO ]  save_test_root:generated\n",
            "INFO:root:crop_size:192\n",
            "2022-11-20 03:19:10,512 [INFO ]  crop_size:192\n",
            "INFO:root:batch_size:24\n",
            "2022-11-20 03:19:10,512 [INFO ]  batch_size:24\n",
            "INFO:root:num_workers:4\n",
            "2022-11-20 03:19:10,512 [INFO ]  num_workers:4\n",
            "INFO:root:multi_scale:False\n",
            "2022-11-20 03:19:10,513 [INFO ]  multi_scale:False\n",
            "INFO:root:data_augmentation:False\n",
            "2022-11-20 03:19:10,513 [INFO ]  data_augmentation:False\n",
            "INFO:root:lr:0.0001\n",
            "2022-11-20 03:19:10,513 [INFO ]  lr:0.0001\n",
            "INFO:root:lr_D:0.0001\n",
            "2022-11-20 03:19:10,513 [INFO ]  lr_D:0.0001\n",
            "INFO:root:weight_decay:0.0001\n",
            "2022-11-20 03:19:10,513 [INFO ]  weight_decay:0.0001\n",
            "INFO:root:start_iter:0\n",
            "2022-11-20 03:19:10,514 [INFO ]  start_iter:0\n",
            "INFO:root:max_iter:300\n",
            "2022-11-20 03:19:10,514 [INFO ]  max_iter:300\n",
            "INFO:root:loss_l1:True\n",
            "2022-11-20 03:19:10,514 [INFO ]  loss_l1:True\n",
            "INFO:root:loss_ter:True\n",
            "2022-11-20 03:19:10,514 [INFO ]  loss_ter:True\n",
            "INFO:root:loss_flow:True\n",
            "2022-11-20 03:19:10,514 [INFO ]  loss_flow:True\n",
            "INFO:root:loss_perceptual:False\n",
            "2022-11-20 03:19:10,514 [INFO ]  loss_perceptual:False\n",
            "INFO:root:loss_adv:False\n",
            "2022-11-20 03:19:10,514 [INFO ]  loss_adv:False\n",
            "INFO:root:gan_type:WGAN_GP\n",
            "2022-11-20 03:19:10,514 [INFO ]  gan_type:WGAN_GP\n",
            "INFO:root:lambda_l1:1\n",
            "2022-11-20 03:19:10,514 [INFO ]  lambda_l1:1\n",
            "INFO:root:lambda_ter:1\n",
            "2022-11-20 03:19:10,515 [INFO ]  lambda_ter:1\n",
            "INFO:root:lambda_flow:0.01\n",
            "2022-11-20 03:19:10,515 [INFO ]  lambda_flow:0.01\n",
            "INFO:root:lambda_perceptual:1\n",
            "2022-11-20 03:19:10,515 [INFO ]  lambda_perceptual:1\n",
            "INFO:root:lambda_adv:0.005\n",
            "2022-11-20 03:19:10,515 [INFO ]  lambda_adv:0.005\n",
            "INFO:root:resume:\n",
            "2022-11-20 03:19:10,515 [INFO ]  resume:\n",
            "INFO:root:resume_optim:\n",
            "2022-11-20 03:19:10,515 [INFO ]  resume_optim:\n",
            "INFO:root:resume_scheduler:\n",
            "2022-11-20 03:19:10,515 [INFO ]  resume_scheduler:\n",
            "INFO:root:resume_flownet:/content/drive/My Drive/Duong/VFIformer/finetuned-liteflownet-epoch1.pkl\n",
            "2022-11-20 03:19:10,515 [INFO ]  resume_flownet:/content/drive/My Drive/Duong/VFIformer/finetuned-liteflownet-epoch1.pkl\n",
            "INFO:root:log_freq:10\n",
            "2022-11-20 03:19:10,516 [INFO ]  log_freq:10\n",
            "INFO:root:vis_freq:50000\n",
            "2022-11-20 03:19:10,516 [INFO ]  vis_freq:50000\n",
            "INFO:root:save_epoch_freq:5\n",
            "2022-11-20 03:19:10,516 [INFO ]  save_epoch_freq:5\n",
            "INFO:root:test_freq:100\n",
            "2022-11-20 03:19:10,516 [INFO ]  test_freq:100\n",
            "INFO:root:save_folder:./weights/train_VFIformerFull\n",
            "2022-11-20 03:19:10,516 [INFO ]  save_folder:./weights/train_VFIformerFull\n",
            "INFO:root:vis_step_freq:100\n",
            "2022-11-20 03:19:10,516 [INFO ]  vis_step_freq:100\n",
            "INFO:root:use_tb_logger:True\n",
            "2022-11-20 03:19:10,516 [INFO ]  use_tb_logger:True\n",
            "INFO:root:save_test_results:False\n",
            "2022-11-20 03:19:10,516 [INFO ]  save_test_results:False\n",
            "INFO:root:ref_level:1\n",
            "2022-11-20 03:19:10,517 [INFO ]  ref_level:1\n",
            "INFO:root:dist:True\n",
            "2022-11-20 03:19:10,517 [INFO ]  dist:True\n",
            "INFO:root:world_size:1\n",
            "2022-11-20 03:19:10,517 [INFO ]  world_size:1\n",
            "INFO:root:rank:0\n",
            "2022-11-20 03:19:10,517 [INFO ]  rank:0\n",
            "INFO:root:vis_save_dir:./weights/train_VFIformerFull/vis\n",
            "2022-11-20 03:19:10,517 [INFO ]  vis_save_dir:./weights/train_VFIformerFull/vis\n",
            "INFO:root:snapshot_save_dir:./weights/train_VFIformerFull/snapshot\n",
            "2022-11-20 03:19:10,517 [INFO ]  snapshot_save_dir:./weights/train_VFIformerFull/snapshot\n",
            "\n",
            "\n",
            "Traceback (most recent call last):\n",
            "  File \"/content/drive/MyDrive/Duong/VFIformer/code/train.py\", line 152, in <module>\n",
            "    main()\n",
            "  File \"/content/drive/MyDrive/Duong/VFIformer/code/train.py\", line 148, in main\n",
            "    trainer = Trainer(args)\n",
            "  File \"/content/drive/MyDrive/Duong/VFIformer/code/models/trainer.py\", line 59, in __init__\n",
            "    self.net = define_G(args)\n",
            "  File \"/content/drive/MyDrive/Duong/VFIformer/code/models/modules.py\", line 91, in define_G\n",
            "    net = define_network(args)\n",
            "  File \"/content/drive/MyDrive/Duong/VFIformer/code/models/modules.py\", line 45, in define_network\n",
            "    net = dynamic_instantiation(_arch_modules, args)\n",
            "  File \"/content/drive/MyDrive/Duong/VFIformer/code/models/modules.py\", line 41, in dynamic_instantiation\n",
            "    return cls_(args)\n",
            "  File \"/content/drive/MyDrive/Duong/VFIformer/code/models/archs/VFIformer_arch.py\", line 346, in __init__\n",
            "    self.load_networks('flownet', args.resume_flownet)\n",
            "  File \"/content/drive/MyDrive/Duong/VFIformer/code/models/archs/VFIformer_arch.py\", line 362, in load_networks\n",
            "    network.load_state_dict(load_net_clean)\n",
            "  File \"/usr/local/lib/python3.9/dist-packages/torch/nn/modules/module.py\", line 1223, in load_state_dict\n",
            "    raise RuntimeError('Error(s) in loading state_dict for {}:\\n\\t{}'.format(\n",
            "RuntimeError: Error(s) in loading state_dict for IFNet:\n",
            "\tMissing key(s) in state_dict: \"block0.conv0.0.0.weight\", \"block0.conv0.0.0.bias\", \"block0.conv0.0.1.weight\", \"block0.conv0.1.0.weight\", \"block0.conv0.1.0.bias\", \"block0.conv0.1.1.weight\", \"block0.convblock.0.0.weight\", \"block0.convblock.0.0.bias\", \"block0.convblock.0.1.weight\", \"block0.convblock.1.0.weight\", \"block0.convblock.1.0.bias\", \"block0.convblock.1.1.weight\", \"block0.convblock.2.0.weight\", \"block0.convblock.2.0.bias\", \"block0.convblock.2.1.weight\", \"block0.convblock.3.0.weight\", \"block0.convblock.3.0.bias\", \"block0.convblock.3.1.weight\", \"block0.convblock.4.0.weight\", \"block0.convblock.4.0.bias\", \"block0.convblock.4.1.weight\", \"block0.convblock.5.0.weight\", \"block0.convblock.5.0.bias\", \"block0.convblock.5.1.weight\", \"block0.convblock.6.0.weight\", \"block0.convblock.6.0.bias\", \"block0.convblock.6.1.weight\", \"block0.convblock.7.0.weight\", \"block0.convblock.7.0.bias\", \"block0.convblock.7.1.weight\", \"block0.conv1.weight\", \"block0.conv1.bias\", \"block1.conv0.0.0.weight\", \"block1.conv0.0.0.bias\", \"block1.conv0.0.1.weight\", \"block1.conv0.1.0.weight\", \"block1.conv0.1.0.bias\", \"block1.conv0.1.1.weight\", \"block1.convblock.0.0.weight\", \"block1.convblock.0.0.bias\", \"block1.convblock.0.1.weight\", \"block1.convblock.1.0.weight\", \"block1.convblock.1.0.bias\", \"block1.convblock.1.1.weight\", \"block1.convblock.2.0.weight\", \"block1.convblock.2.0.bias\", \"block1.convblock.2.1.weight\", \"block1.convblock.3.0.weight\", \"block1.convblock.3.0.bias\", \"block1.convblock.3.1.weight\", \"block1.convblock.4.0.weight\", \"block1.convblock.4.0.bias\", \"block1.convblock.4.1.weight\", \"block1.convblock.5.0.weight\", \"block1.convblock.5.0.bias\", \"block1.convblock.5.1.weight\", \"block1.convblock.6.0.weight\", \"block1.convblock.6.0.bias\", \"block1.convblock.6.1.weight\", \"block1.convblock.7.0.weight\", \"block1.convblock.7.0.bias\", \"block1.convblock.7.1.weight\", \"block1.conv1.weight\", \"block1.conv1.bias\", \"block2.conv0.0.0.weight\", \"block2.conv0.0.0.bias\", \"block2.conv0.0.1.weight\", \"block2.conv0.1.0.weight\", \"block2.conv0.1.0.bias\", \"block2.conv0.1.1.weight\", \"block2.convblock.0.0.weight\", \"block2.convblock.0.0.bias\", \"block2.convblock.0.1.weight\", \"block2.convblock.1.0.weight\", \"block2.convblock.1.0.bias\", \"block2.convblock.1.1.weight\", \"block2.convblock.2.0.weight\", \"block2.convblock.2.0.bias\", \"block2.convblock.2.1.weight\", \"block2.convblock.3.0.weight\", \"block2.convblock.3.0.bias\", \"block2.convblock.3.1.weight\", \"block2.convblock.4.0.weight\", \"block2.convblock.4.0.bias\", \"block2.convblock.4.1.weight\", \"block2.convblock.5.0.weight\", \"block2.convblock.5.0.bias\", \"block2.convblock.5.1.weight\", \"block2.convblock.6.0.weight\", \"block2.convblock.6.0.bias\", \"block2.convblock.6.1.weight\", \"block2.convblock.7.0.weight\", \"block2.convblock.7.0.bias\", \"block2.convblock.7.1.weight\", \"block2.conv1.weight\", \"block2.conv1.bias\". \n",
            "\tUnexpected key(s) in state_dict: \"netFeatures.netOne.0.weight\", \"netFeatures.netOne.0.bias\", \"netFeatures.netTwo.0.weight\", \"netFeatures.netTwo.0.bias\", \"netFeatures.netTwo.2.weight\", \"netFeatures.netTwo.2.bias\", \"netFeatures.netTwo.4.weight\", \"netFeatures.netTwo.4.bias\", \"netFeatures.netThr.0.weight\", \"netFeatures.netThr.0.bias\", \"netFeatures.netThr.2.weight\", \"netFeatures.netThr.2.bias\", \"netFeatures.netFou.0.weight\", \"netFeatures.netFou.0.bias\", \"netFeatures.netFou.2.weight\", \"netFeatures.netFou.2.bias\", \"netFeatures.netFiv.0.weight\", \"netFeatures.netFiv.0.bias\", \"netFeatures.netSix.0.weight\", \"netFeatures.netSix.0.bias\", \"netMatching.0.netFeat.0.weight\", \"netMatching.0.netFeat.0.bias\", \"netMatching.0.netUpflow.weight\", \"netMatching.0.netUpcorr.weight\", \"netMatching.0.netMain.0.weight\", \"netMatching.0.netMain.0.bias\", \"netMatching.0.netMain.2.weight\", \"netMatching.0.netMain.2.bias\", \"netMatching.0.netMain.4.weight\", \"netMatching.0.netMain.4.bias\", \"netMatching.0.netMain.6.weight\", \"netMatching.0.netMain.6.bias\", \"netMatching.1.netUpflow.weight\", \"netMatching.1.netUpcorr.weight\", \"netMatching.1.netMain.0.weight\", \"netMatching.1.netMain.0.bias\", \"netMatching.1.netMain.2.weight\", \"netMatching.1.netMain.2.bias\", \"netMatching.1.netMain.4.weight\", \"netMatching.1.netMain.4.bias\", \"netMatching.1.netMain.6.weight\", \"netMatching.1.netMain.6.bias\", \"netMatching.2.netUpflow.weight\", \"netMatching.2.netMain.0.weight\", \"netMatching.2.netMain.0.bias\", \"netMatching.2.netMain.2.weight\", \"netMatching.2.netMain.2.bias\", \"netMatching.2.netMain.4.weight\", \"netMatching.2.netMain.4.bias\", \"netMatching.2.netMain.6.weight\", \"netMatching.2.netMain.6.bias\", \"netMatching.3.netUpflow.weight\", \"netMatching.3.netMain.0.weight\", \"netMatching.3.netMain.0.bias\", \"netMatching.3.netMain.2.weight\", \"netMatching.3.netMain.2.bias\", \"netMatching.3.netMain.4.weight\", \"netMatching.3.netMain.4.bias\", \"netMatching.3.netMain.6.weight\", \"netMatching.3.netMain.6.bias\", \"netMatching.4.netMain.0.weight\", \"netMatching.4.netMain.0.bias\", \"netMatching.4.netMain.2.weight\", \"netMatching.4.netMain.2.bias\", \"netMatching.4.netMain.4.weight\", \"netMatching.4.netMain.4.bias\", \"netMatching.4.netMain.6.weight\", \"netMatching.4.netMain.6.bias\", \"netSubpixel.0.netFeat.0.weight\", \"netSubpixel.0.netFeat.0.bias\", \"netSubpixel.0.netMain.0.weight\", \"netSubpixel.0.netMain.0.bias\", \"netSubpixel.0.netMain.2.weight\", \"netSubpixel.0.netMain.2.bias\", \"netSubpixel.0.netMain.4.weight\", \"netSubpixel.0.netMain.4.bias\", \"netSubpixel.0.netMain.6.weight\", \"netSubpixel.0.netMain.6.bias\", \"netSubpixel.1.netMain.0.weight\", \"netSubpixel.1.netMain.0.bias\", \"netSubpixel.1.netMain.2.weight\", \"netSubpixel.1.netMain.2.bias\", \"netSubpixel.1.netMain.4.weight\", \"netSubpixel.1.netMain.4.bias\", \"netSubpixel.1.netMain.6.weight\", \"netSubpixel.1.netMain.6.bias\", \"netSubpixel.2.netMain.0.weight\", \"netSubpixel.2.netMain.0.bias\", \"netSubpixel.2.netMain.2.weight\", \"netSubpixel.2.netMain.2.bias\", \"netSubpixel.2.netMain.4.weight\", \"netSubpixel.2.netMain.4.bias\", \"netSubpixel.2.netMain.6.weight\", \"netSubpixel.2.netMain.6.bias\", \"netSubpixel.3.netMain.0.weight\", \"netSubpixel.3.netMain.0.bias\", \"netSubpixel.3.netMain.2.weight\", \"netSubpixel.3.netMain.2.bias\", \"netSubpixel.3.netMain.4.weight\", \"netSubpixel.3.netMain.4.bias\", \"netSubpixel.3.netMain.6.weight\", \"netSubpixel.3.netMain.6.bias\", \"netSubpixel.4.netMain.0.weight\", \"netSubpixel.4.netMain.0.bias\", \"netSubpixel.4.netMain.2.weight\", \"netSubpixel.4.netMain.2.bias\", \"netSubpixel.4.netMain.4.weight\", \"netSubpixel.4.netMain.4.bias\", \"netSubpixel.4.netMain.6.weight\", \"netSubpixel.4.netMain.6.bias\", \"netRegularization.0.netFeat.0.weight\", \"netRegularization.0.netFeat.0.bias\", \"netRegularization.0.netMain.0.weight\", \"netRegularization.0.netMain.0.bias\", \"netRegularization.0.netMain.2.weight\", \"netRegularization.0.netMain.2.bias\", \"netRegularization.0.netMain.4.weight\", \"netRegularization.0.netMain.4.bias\", \"netRegularization.0.netMain.6.weight\", \"netRegularization.0.netMain.6.bias\", \"netRegularization.0.netMain.8.weight\", \"netRegularization.0.netMain.8.bias\", \"netRegularization.0.netMain.10.weight\", \"netRegularization.0.netMain.10.bias\", \"netRegularization.0.netDist.0.weight\", \"netRegularization.0.netDist.0.bias\", \"netRegularization.0.netDist.1.weight\", \"netRegularization.0.netDist.1.bias\", \"netRegularization.0.netScaleX.weight\", \"netRegularization.0.netScaleX.bias\", \"netRegularization.0.netScaleY.weight\", \"netRegularization.0.netScaleY.bias\", \"netRegularization.1.netFeat.0.weight\", \"netRegularization.1.netFeat.0.bias\", \"netRegularization.1.netMain.0.weight\", \"netRegularization.1.netMain.0.bias\", \"netRegularization.1.netMain.2.weight\", \"netRegularization.1.netMain.2.bias\", \"netRegularization.1.netMain.4.weight\", \"netRegularization.1.netMain.4.bias\", \"netRegularization.1.netMain.6.weight\", \"netRegularization.1.netMain.6.bias\", \"netRegularization.1.netMain.8.weight\", \"netRegularization.1.netMain.8.bias\", \"netRegularization.1.netMain.10.weight\", \"netRegularization.1.netMain.10.bias\", \"netRegularization.1.netDist.0.weight\", \"netRegularization.1.netDist.0.bias\", \"netRegularization.1.netDist.1.weight\", \"netRegularization.1.netDist.1.bias\", \"netRegularization.1.netScaleX.weight\", \"netRegularization.1.netScaleX.bias\", \"netRegularization.1.netScaleY.weight\", \"netRegularization.1.netScaleY.bias\", \"netRegularization.2.netFeat.0.weight\", \"netRegularization.2.netFeat.0.bias\", \"netRegularization.2.netMain.0.weight\", \"netRegularization.2.netMain.0.bias\", \"netRegularization.2.netMain.2.weight\", \"netRegularization.2.netMain.2.bias\", \"netRegularization.2.netMain.4.weight\", \"netRegularization.2.netMain.4.bias\", \"netRegularization.2.netMain.6.weight\", \"netRegularization.2.netMain.6.bias\", \"netRegularization.2.netMain.8.weight\", \"netRegularization.2.netMain.8.bias\", \"netRegularization.2.netMain.10.weight\", \"netRegularization.2.netMain.10.bias\", \"netRegularization.2.netDist.0.weight\", \"netRegularization.2.netDist.0.bias\", \"netRegularization.2.netDist.1.weight\", \"netRegularization.2.netDist.1.bias\", \"netRegularization.2.netScaleX.weight\", \"netRegularization.2.netScaleX.bias\", \"netRegularization.2.netScaleY.weight\", \"netRegularization.2.netScaleY.bias\", \"netRegularization.3.netMain.0.weight\", \"netRegularization.3.netMain.0.bias\", \"netRegularization.3.netMain.2.weight\", \"netRegularization.3.netMain.2.bias\", \"netRegularization.3.netMain.4.weight\", \"netRegularization.3.netMain.4.bias\", \"netRegularization.3.netMain.6.weight\", \"netRegularization.3.netMain.6.bias\", \"netRegularization.3.netMain.8.weight\", \"netRegularization.3.netMain.8.bias\", \"netRegularization.3.netMain.10.weight\", \"netRegularization.3.netMain.10.bias\", \"netRegularization.3.netDist.0.weight\", \"netRegularization.3.netDist.0.bias\", \"netRegularization.3.netScaleX.weight\", \"netRegularization.3.netScaleX.bias\", \"netRegularization.3.netScaleY.weight\", \"netRegularization.3.netScaleY.bias\", \"netRegularization.4.netMain.0.weight\", \"netRegularization.4.netMain.0.bias\", \"netRegularization.4.netMain.2.weight\", \"netRegularization.4.netMain.2.bias\", \"netRegularization.4.netMain.4.weight\", \"netRegularization.4.netMain.4.bias\", \"netRegularization.4.netMain.6.weight\", \"netRegularization.4.netMain.6.bias\", \"netRegularization.4.netMain.8.weight\", \"netRegularization.4.netMain.8.bias\", \"netRegularization.4.netMain.10.weight\", \"netRegularization.4.netMain.10.bias\", \"netRegularization.4.netDist.0.weight\", \"netRegularization.4.netDist.0.bias\", \"netRegularization.4.netScaleX.weight\", \"netRegularization.4.netScaleX.bias\", \"netRegularization.4.netScaleY.weight\", \"netRegularization.4.netScaleY.bias\". \n",
            "Killing subprocess 4555\n",
            "Traceback (most recent call last):\n",
            "  File \"/usr/lib/python3.9/runpy.py\", line 197, in _run_module_as_main\n",
            "    return _run_code(code, main_globals, None,\n",
            "  File \"/usr/lib/python3.9/runpy.py\", line 87, in _run_code\n",
            "    exec(code, run_globals)\n",
            "  File \"/usr/local/lib/python3.9/dist-packages/torch/distributed/launch.py\", line 340, in <module>\n",
            "    main()\n",
            "  File \"/usr/local/lib/python3.9/dist-packages/torch/distributed/launch.py\", line 326, in main\n",
            "    sigkill_handler(signal.SIGTERM, None)  # not coming back\n",
            "  File \"/usr/local/lib/python3.9/dist-packages/torch/distributed/launch.py\", line 301, in sigkill_handler\n",
            "    raise subprocess.CalledProcessError(returncode=last_return_code, cmd=cmd)\n",
            "subprocess.CalledProcessError: Command '['/usr/bin/python3', '-u', 'train.py', '--local_rank=0', '--launcher', 'pytorch', '--gpu_ids', '0', '--loss_l1', '--loss_ter', '--loss_flow', '--use_tb_logger', '--batch_size', '24', '--net_name', 'VFIformer', '--name', 'train_VFIformerFull', '--max_iter', '300', '--crop_size', '192', '--save_epoch_freq', '5', '--data_root', '/content/drive/My Drive/Duong/datasets/vimeo-samples', '--resume_flownet', '/content/drive/My Drive/Duong/VFIformer/finetuned-liteflownet-epoch1.pkl']' returned non-zero exit status 1.\n"
          ]
        }
      ]
    },
    {
      "cell_type": "code",
      "source": [
        "!python test.py --data_root \"/content/drive/My Drive/datasets/vimeo_triplet\" --testset VimeoDataset --net_name VFIformerSmall \\\n",
        "  --resume \"/content/drive/My Drive/VFIformer/weights/train_VFIformerSmall/snapshot/net_105.pth\" \\\n",
        "  --save_result --save_folder \"/content/drive/My Drive/datasets/vimeo_triplet/test_results\""
      ],
      "metadata": {
        "id": "1XN_-G6gHhHk",
        "outputId": "25b5369d-9055-499e-d6ab-651c839e0d64",
        "colab": {
          "base_uri": "https://localhost:8080/"
        }
      },
      "execution_count": null,
      "outputs": [
        {
          "output_type": "stream",
          "name": "stdout",
          "text": [
            "Disabled distributed training.\n",
            "2022-08-15 16:15:12,339 [INFO ]  Logging file is /content/drive/My Drive/datasets/vimeo_triplet/test_results/test_vfiformer/20220815_161512.log\n",
            "2022-08-15 16:15:12,339 [INFO ]  random_seed:0\n",
            "2022-08-15 16:15:12,340 [INFO ]  name:test_vfiformer\n",
            "2022-08-15 16:15:12,340 [INFO ]  phase:test\n",
            "2022-08-15 16:15:12,340 [INFO ]  gpu_ids:[0]\n",
            "2022-08-15 16:15:12,340 [INFO ]  launcher:none\n",
            "2022-08-15 16:15:12,340 [INFO ]  local_rank:0\n",
            "2022-08-15 16:15:12,340 [INFO ]  net_name:VFIformerSmall\n",
            "2022-08-15 16:15:12,340 [INFO ]  data_root:/content/drive/My Drive/datasets/vimeo_triplet\n",
            "2022-08-15 16:15:12,340 [INFO ]  trainset:VimeoDataset\n",
            "2022-08-15 16:15:12,341 [INFO ]  testset:VimeoDataset\n",
            "2022-08-15 16:15:12,341 [INFO ]  crop_size:192\n",
            "2022-08-15 16:15:12,341 [INFO ]  batch_size:1\n",
            "2022-08-15 16:15:12,341 [INFO ]  num_workers:4\n",
            "2022-08-15 16:15:12,341 [INFO ]  data_augmentation:False\n",
            "2022-08-15 16:15:12,341 [INFO ]  resume:/content/drive/My Drive/VFIformer/weights/train_VFIformerSmall/snapshot/net_105.pth\n",
            "2022-08-15 16:15:12,341 [INFO ]  resume_flownet:\n",
            "2022-08-15 16:15:12,341 [INFO ]  save_folder:/content/drive/My Drive/datasets/vimeo_triplet/test_results/test_vfiformer\n",
            "2022-08-15 16:15:12,341 [INFO ]  save_result:True\n",
            "2022-08-15 16:15:12,342 [INFO ]  dist:False\n",
            "2022-08-15 16:15:12,342 [INFO ]  rank:-1\n",
            "/usr/local/lib/python3.7/dist-packages/torch/utils/data/dataloader.py:477: UserWarning: This DataLoader will create 4 worker processes in total. Our suggested max number of worker in current system is 2, which is smaller than what this DataLoader is going to create. Please be aware that excessive worker creation might get DataLoader running slow or even freeze, lower the worker number to avoid potential slowness/freeze if necessary.\n",
            "  cpuset_checked))\n",
            "/usr/local/lib/python3.7/dist-packages/torch/nn/functional.py:3503: UserWarning: The default behavior for interpolate/upsample with float scale_factor changed in 1.6.0 to align with other frameworks/libraries, and now uses scale_factor directly, instead of relying on the computed output size. If you wish to restore the old behavior, please set recompute_scale_factor=True. See the documentation of nn.Upsample for details. \n",
            "  \"The default behavior for interpolate/upsample with float scale_factor changed \"\n",
            "2022-08-15 16:15:16,511 [INFO ]  ----- generator parameters: 17.024426 -----\n",
            "2022-08-15 16:15:16,517 [INFO ]  start testing...\n",
            "2022-08-15 16:15:16,517 [INFO ]  20 testing samples\n",
            "2022-08-15 16:15:19,690 [INFO ]  testing on: 00001/0001    psnr: 20.373328    ssim: 0.697932\n",
            "2022-08-15 16:15:20,428 [INFO ]  testing on: 00001/0002    psnr: 20.429682    ssim: 0.700806\n",
            "2022-08-15 16:15:21,188 [INFO ]  testing on: 00001/0003    psnr: 20.484634    ssim: 0.704268\n",
            "2022-08-15 16:15:21,905 [INFO ]  testing on: 00001/0004    psnr: 19.075170    ssim: 0.568258\n",
            "2022-08-15 16:15:22,625 [INFO ]  testing on: 00001/0005    psnr: 20.149826    ssim: 0.630112\n",
            "2022-08-15 16:15:23,353 [INFO ]  testing on: 00001/0006    psnr: 20.811068    ssim: 0.661224\n",
            "2022-08-15 16:15:24,072 [INFO ]  testing on: 00001/0007    psnr: 20.052586    ssim: 0.610983\n",
            "2022-08-15 16:15:24,791 [INFO ]  testing on: 00001/0008    psnr: 19.442653    ssim: 0.575973\n",
            "2022-08-15 16:15:25,515 [INFO ]  testing on: 00001/0009    psnr: 19.007357    ssim: 0.548806\n",
            "2022-08-15 16:15:26,262 [INFO ]  testing on: 00001/0010    psnr: 18.629936    ssim: 0.526344\n",
            "2022-08-15 16:15:26,983 [INFO ]  testing on: 00001/0011    psnr: 18.440923    ssim: 0.515653\n",
            "2022-08-15 16:15:27,707 [INFO ]  testing on: 00001/0012    psnr: 18.301578    ssim: 0.507408\n",
            "2022-08-15 16:15:28,423 [INFO ]  testing on: 00001/0013    psnr: 18.276738    ssim: 0.503915\n",
            "2022-08-15 16:15:29,132 [INFO ]  testing on: 00001/0014    psnr: 18.598399    ssim: 0.520811\n",
            "2022-08-15 16:15:29,847 [INFO ]  testing on: 00001/0015    psnr: 19.017759    ssim: 0.541669\n",
            "2022-08-15 16:15:30,581 [INFO ]  testing on: 00001/0016    psnr: 19.466106    ssim: 0.563200\n",
            "2022-08-15 16:15:31,303 [INFO ]  testing on: 00001/0017    psnr: 19.005264    ssim: 0.572232\n",
            "2022-08-15 16:15:32,021 [INFO ]  testing on: 00001/0018    psnr: 18.823476    ssim: 0.557886\n",
            "2022-08-15 16:15:32,733 [INFO ]  testing on: 00001/0019    psnr: 18.918367    ssim: 0.553478\n",
            "2022-08-15 16:15:33,458 [INFO ]  testing on: 00001/0020    psnr: 19.158276    ssim: 0.556573\n",
            "2022-08-15 16:15:33,742 [INFO ]  --------- average PSNR: 19.323156,  SSIM: 0.580877\n"
          ]
        }
      ]
    },
    {
      "cell_type": "code",
      "source": [],
      "metadata": {
        "id": "xX_jMGHVObxZ"
      },
      "execution_count": null,
      "outputs": []
    },
    {
      "cell_type": "code",
      "source": [
        "import os\n",
        "import glob\n",
        "\n",
        "data_root = '/content/drive/My Drive/datasets/vimeo_triplet' \n",
        "data_list = open(os.path.join(data_root, 'tri_testlist.txt'), 'r')\n",
        "flow_data = []\n",
        "for item in data_list:\n",
        "  name = str(item).strip()\n",
        "  flow = sorted(glob.glob(os.path.join(data_root.replace('vimeo_triplet', ''), 'flows', name, '*.npy')))\n",
        "  print(glob.glob(os.path.join(data_root.replace('vimeo_triplet', ''), 'flows',name, '*.npy')))\n",
        "print(flow_data)\n",
        "\n",
        "# print(glob.glob(f'/content/drive/My Drive/datasets/**/*'))"
      ],
      "metadata": {
        "id": "xA_Y_oDnNbif",
        "outputId": "abcafec7-df2f-4cb3-c477-79254ad35dd1",
        "colab": {
          "base_uri": "https://localhost:8080/"
        }
      },
      "execution_count": null,
      "outputs": [
        {
          "output_type": "stream",
          "name": "stdout",
          "text": [
            "['/content/drive/My Drive/datasets/flows/00001/0001/flo21.npy', '/content/drive/My Drive/datasets/flows/00001/0001/flo23.npy']\n",
            "['/content/drive/My Drive/datasets/flows/00001/0002/flo23.npy', '/content/drive/My Drive/datasets/flows/00001/0002/flo21.npy']\n",
            "['/content/drive/My Drive/datasets/flows/00001/0003/flo21.npy', '/content/drive/My Drive/datasets/flows/00001/0003/flo23.npy']\n",
            "['/content/drive/My Drive/datasets/flows/00001/0004/flo23.npy', '/content/drive/My Drive/datasets/flows/00001/0004/flo21.npy']\n",
            "['/content/drive/My Drive/datasets/flows/00001/0005/flo21.npy', '/content/drive/My Drive/datasets/flows/00001/0005/flo23.npy']\n",
            "['/content/drive/My Drive/datasets/flows/00001/0006/flo23.npy', '/content/drive/My Drive/datasets/flows/00001/0006/flo21.npy']\n",
            "['/content/drive/My Drive/datasets/flows/00001/0007/flo23.npy', '/content/drive/My Drive/datasets/flows/00001/0007/flo21.npy']\n",
            "['/content/drive/My Drive/datasets/flows/00001/0008/flo23.npy', '/content/drive/My Drive/datasets/flows/00001/0008/flo21.npy']\n",
            "['/content/drive/My Drive/datasets/flows/00001/0009/flo21.npy', '/content/drive/My Drive/datasets/flows/00001/0009/flo23.npy']\n",
            "['/content/drive/My Drive/datasets/flows/00001/0010/flo23.npy', '/content/drive/My Drive/datasets/flows/00001/0010/flo21.npy']\n",
            "['/content/drive/My Drive/datasets/flows/00001/0011/flo23.npy', '/content/drive/My Drive/datasets/flows/00001/0011/flo21.npy']\n",
            "['/content/drive/My Drive/datasets/flows/00001/0012/flo23.npy', '/content/drive/My Drive/datasets/flows/00001/0012/flo21.npy']\n",
            "['/content/drive/My Drive/datasets/flows/00001/0013/flo23.npy', '/content/drive/My Drive/datasets/flows/00001/0013/flo21.npy']\n",
            "['/content/drive/My Drive/datasets/flows/00001/0014/flo21.npy', '/content/drive/My Drive/datasets/flows/00001/0014/flo23.npy']\n",
            "['/content/drive/My Drive/datasets/flows/00001/0015/flo21.npy', '/content/drive/My Drive/datasets/flows/00001/0015/flo23.npy']\n",
            "['/content/drive/My Drive/datasets/flows/00001/0016/flo21.npy', '/content/drive/My Drive/datasets/flows/00001/0016/flo23.npy']\n",
            "['/content/drive/My Drive/datasets/flows/00001/0017/flo23.npy', '/content/drive/My Drive/datasets/flows/00001/0017/flo21.npy']\n",
            "['/content/drive/My Drive/datasets/flows/00001/0018/flo23.npy', '/content/drive/My Drive/datasets/flows/00001/0018/flo21.npy']\n",
            "['/content/drive/My Drive/datasets/flows/00001/0019/flo21.npy', '/content/drive/My Drive/datasets/flows/00001/0019/flo23.npy']\n",
            "['/content/drive/My Drive/datasets/flows/00001/0020/flo23.npy', '/content/drive/My Drive/datasets/flows/00001/0020/flo21.npy']\n",
            "[]\n"
          ]
        }
      ]
    }
  ],
  "metadata": {
    "language_info": {
      "name": "python"
    },
    "orig_nbformat": 4,
    "colab": {
      "name": "VFIFormer.ipynb",
      "provenance": []
    },
    "kernelspec": {
      "name": "python3",
      "display_name": "Python 3"
    },
    "gpuClass": "standard"
  },
  "nbformat": 4,
  "nbformat_minor": 0
}